{
 "cells": [
  {
   "cell_type": "markdown",
   "metadata": {
    "slideshow": {
     "slide_type": "slide"
    }
   },
   "source": [
    "# Objective Functions and Supervised Learning\n",
    "\n",
    "## Machine Learning and Adaptive Intelligence\n",
    "\n",
    "### Mauricio Álvarez \n",
    "\n",
    "### Based on slides by Neil D. Lawrence"
   ]
  },
  {
   "cell_type": "code",
   "execution_count": null,
   "metadata": {
    "slideshow": {
     "slide_type": "subslide"
    }
   },
   "outputs": [],
   "source": [
    "import numpy as np\n",
    "import matplotlib.pyplot as plt\n",
    "from IPython import display\n",
    "import time\n",
    "\n",
    "%matplotlib inline"
   ]
  },
  {
   "cell_type": "markdown",
   "metadata": {
    "slideshow": {
     "slide_type": "slide"
    }
   },
   "source": [
    "### Objective Function\n",
    "\n",
    "- Last week we motivated the importance of probability.\n",
    "- This week we motivate the idea of the 'objective function'."
   ]
  },
  {
   "cell_type": "markdown",
   "metadata": {
    "slideshow": {
     "slide_type": "slide"
    }
   },
   "source": [
    "### Classification\n",
    "\n",
    "- In classification we take in a *feature matrix* and make predictions of *class labels* given the features. \n",
    "- Our features are $\\mathbf{x}_i$ for the $i$th data point\n",
    "- Our labels are $y_i$ which is either -1 (negative) or +1 (positive).\n"
   ]
  },
  {
   "cell_type": "markdown",
   "metadata": {
    "slideshow": {
     "slide_type": "slide"
    }
   },
   "source": [
    "### Classification\n",
    "\n",
    "- predict the class label, $y_i$, given the features associated with that data point, $\\mathbf{x}_i$, using the *prediction function*: \n",
    "\n",
    "    $$f(\\mathbf{x}_i) = \\text{sign}\\left(\\mathbf{w}^\\top \\mathbf{x}_i + b\\right)$$\n",
    "\n",
    "- Remember how the $g(z)=\\text{sign}(z)$ function is defined\n",
    "\n",
    "\\begin{equation}\n",
    "g(z)=\\text{sign}(z)=\n",
    "\\begin{cases}\n",
    "+1 & z>0\\\\\n",
    "-1 & z<0\n",
    "\\end{cases}\n",
    "\\end{equation}\n",
    "\n",
    "\n",
    "\n",
    "- Decision boundary for the classification is given by a *hyperplane*. \n",
    "- Vector $\\mathbf{w}$ is the [normal vector](http://en.wikipedia.org/wiki/Normal_(geometry)) to the hyperplane.\n",
    "- Hyperplane is described by the formula $\\mathbf{w}^\\top \\mathbf{x} = -b$ \n",
    "- Sometimes we use $b=w_0$"
   ]
  },
  {
   "cell_type": "markdown",
   "metadata": {
    "slideshow": {
     "slide_type": "slide"
    }
   },
   "source": [
    "## Graphical representation\n",
    "\n",
    "<img src=\"diagrams/decision_boundary.png\" width=\"600\" height=\"50\" align=center>\n",
    "\n",
    "Chapter 4, Bishop (2006)."
   ]
  },
  {
   "cell_type": "markdown",
   "metadata": {
    "slideshow": {
     "slide_type": "slide"
    }
   },
   "source": [
    "### Toy Data\n",
    "\n",
    "- Need to draw a decision boundary that separates red crosses from green circles."
   ]
  },
  {
   "cell_type": "code",
   "execution_count": null,
   "metadata": {
    "scrolled": true
   },
<<<<<<< HEAD
   "outputs": [
    {
     "data": {
      "text/plain": [
       "Text(0, 0.5, '$x_2$')"
      ]
     },
     "execution_count": 2,
     "metadata": {},
     "output_type": "execute_result"
    },
    {
     "data": {
      "image/png": "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\n",
      "text/plain": [
       "<Figure size 400x400 with 1 Axes>"
      ]
     },
     "metadata": {
      "needs_background": "light"
     },
     "output_type": "display_data"
    }
   ],
=======
   "outputs": [],
>>>>>>> upstream/master
   "source": [
    "n_data_per_class = 30\n",
    "np.random.seed(seed=1000001)\n",
    "x_plus = np.random.normal(loc=1.3, size=(n_data_per_class, 2))\n",
    "x_minus = np.random.normal(loc=-1.3, size=(n_data_per_class, 2))\n",
    "\n",
    "# plot data\n",
    "plt.figure(figsize=(5, 5), dpi=80)\n",
    "xlim = np.array([-3.5, 3.5])\n",
    "ylim = xlim\n",
    "plt.plot(x_plus[:, 0], x_plus[:, 1], 'rx')\n",
    "plt.plot(x_minus[:, 0], x_minus[:, 1], 'go')\n",
    "plt.xlim(xlim[0], xlim[1])\n",
    "plt.ylim(ylim[0], ylim[1]) \n",
    "plt.xlabel(r'$x_1$', fontsize=14)\n",
    "plt.ylabel(r'$x_2$', fontsize=14)"
   ]
  },
  {
   "cell_type": "markdown",
   "metadata": {
    "slideshow": {
     "slide_type": "slide"
    }
   },
   "source": [
    "### Mathematical Drawing of Decision Boundary\n",
    "\n",
    "**Refresher**: draw a hyper plane at decision boundary.\n",
    "\n",
    " - *Decision boundary*: plane where a point moves from being classified as -1 to +1. \n",
    " \n",
    " \n",
    " - We have\n",
    " \n",
    " $$\\text{sign}(\\mathbf{w}^\\top \\mathbf{x}_i + b) = \\text{sign}(w_1 x_{i, 1} + w_2 x_{i, 2} + b),\n",
    "      $$\n",
    "\n",
    "   where $x_{i,1}$ is first feature and $x_{i,2}$ is second feature. \n",
    "   "
   ]
  },
  {
   "cell_type": "markdown",
   "metadata": {
    "slideshow": {
     "slide_type": "slide"
    }
   },
   "source": [
    "### Equation of Plane\n",
    "\n",
    "$$\\text{sign}\\left(w_1 x_{i, 1} + w_2 x_{i, 2} + b\\right)$$\n",
    "\n",
    "- Equation of plane is \n",
    "  \n",
    "  $$w_1 x_{i, 1} + w_2 x_{i, 2} + b = 0$$ \n",
    "  \n",
    "  or\n",
    "  \n",
    "    $$w_1 x_{i, 1} + w_2 x_{i, 2} = -b$$ \n",
    "    \n",
    "- Next we will initialise the model and draw a decision boundary.\n"
   ]
  },
  {
   "cell_type": "markdown",
   "metadata": {
    "slideshow": {
     "slide_type": "skip"
    }
   },
   "source": [
    "# Perceptron Algorithm\n",
    "\n",
    "- If we choose a random data point $\\mathbf{x}_i$ from the dataset, we can evaluate if the current $\\mathbf{w}$ and     $b$ provide a correct prediction.\n",
    "\n",
    "\n",
    "- We apply our function \n",
    "\n",
    "  $$f(\\mathbf{x}_i) = \\text{sign}(\\mathbf{w}^\\top\\mathbf{x}_i + b)$$\n",
    "\n",
    "\n",
    "- And check if the predicted value corresponds to the actual label comparing $y_i$ and $f(\\mathbf{x}_i)$"
   ]
  },
  {
   "cell_type": "markdown",
   "metadata": {
    "slideshow": {
     "slide_type": "slide"
    }
   },
   "source": [
    "### Initial code"
   ]
  },
  {
   "cell_type": "code",
   "execution_count": null,
   "metadata": {},
   "outputs": [],
   "source": [
    "\n",
    "# Routine to keep the margins of the drawing box fixed and get the correct margin points for computing the mid points\n",
    "# later\n",
    "def margins_plot(x2, xlim, ylim, w, b):\n",
    "    if (- w[0]/w[1])>0:# cases for a positive slope                \n",
    "        #xlim = np.flip(xlim, 0)\n",
    "        #ylim = np.flip(ylim, 0)\n",
    "        if np.max(x2)>ylim[1] and np.min(x2)<ylim[0]: \n",
    "            x_margin_neg = (ylim[1] + (b/w[1]))/(- w[0]/w[1])\n",
    "            x_margin_pos = (ylim[0] + (b/w[1]))/(- w[0]/w[1])\n",
    "            y_margin_neg = ylim[1]\n",
    "            y_margin_pos = ylim[0]\n",
    "        if np.max(x2)<ylim[1] and np.min(x2)>ylim[0]:\n",
    "            x_margin_neg = xlim[1]\n",
    "            x_margin_pos = xlim[0]\n",
    "            y_margin_neg = (- w[0]/w[1])*xlim[1] - (b/w[1])\n",
    "            y_margin_pos = (- w[0]/w[1])*xlim[0] - (b/w[1])            \n",
    "        if np.max(x2)>ylim[1] and np.min(x2)>ylim[0]:\n",
    "            x_margin_neg = (ylim[1] + (b/w[1]))/(- w[0]/w[1])\n",
    "            x_margin_pos = xlim[0]\n",
    "            y_margin_neg = ylim[1]\n",
    "            y_margin_pos = (- w[0]/w[1])*xlim[0] - (b/w[1])\n",
    "        if np.max(x2)<ylim[1] and np.min(x2)<ylim[0]:\n",
    "            x_margin_neg = xlim[1]\n",
    "            x_margin_pos = (ylim[0] + (b/w[1]))/(- w[0]/w[1])\n",
    "            y_margin_neg = (- w[0]/w[1])*xlim[1] - (b/w[1]) \n",
    "            y_margin_pos =  ylim[0]                  \n",
    "    else:    \n",
    "        if np.max(x2)>ylim[1] and np.min(x2)<ylim[0]: \n",
    "            x_margin_neg = (ylim[0] + (b/w[1]))/(- w[0]/w[1])\n",
    "            x_margin_pos = (ylim[1] + (b/w[1]))/(- w[0]/w[1])\n",
    "            y_margin_neg = ylim[0]\n",
    "            y_margin_pos = ylim[1]            \n",
    "        if np.max(x2)<ylim[1] and np.min(x2)>ylim[0]:         \n",
    "            x_margin_neg = xlim[1]\n",
    "            x_margin_pos = xlim[0]\n",
    "            y_margin_neg = (- w[0]/w[1])*xlim[1] - (b/w[1])\n",
    "            y_margin_pos = (- w[0]/w[1])*xlim[0] - (b/w[1])\n",
    "        if np.max(x2)>ylim[1] and np.min(x2)>ylim[0]:\n",
    "            x_margin_neg = xlim[1]\n",
    "            x_margin_pos = (ylim[1] + (b/w[1]))/(- w[0]/w[1])\n",
    "            y_margin_neg = (- w[0]/w[1])*xlim[1] - (b/w[1])\n",
    "            y_margin_pos = ylim[1]   \n",
    "        if np.max(x2)<ylim[1] and np.min(x2)<ylim[0]:\n",
    "            x_margin_neg = (ylim[0] + (b/w[1]))/(- w[0]/w[1])\n",
    "            x_margin_pos = xlim[0]\n",
    "            y_margin_neg = ylim[0]\n",
    "            y_margin_pos = (- w[0]/w[1])*xlim[0] - (b/w[1]) \n",
    "    return x_margin_neg, x_margin_pos, y_margin_neg, y_margin_pos \n",
    "\n",
    "# Routine for plotting\n",
    "def plot_perceptron(w, b):\n",
    "    npoints = 100\n",
    "    xlim = np.array([-3.5, 3.5])\n",
    "    ylim = xlim\n",
    "    x1 = np.linspace(xlim[0], xlim[1], npoints)\n",
    "    x2 = (- w[0]/w[1])*x1 - (b/w[1])\n",
    "    x_margin_neg, x_margin_pos, y_margin_neg, y_margin_pos = margins_plot(x2, xlim, ylim, w, b)\n",
    "    x1c = (x_margin_neg + x_margin_pos)/2\n",
    "    x2c = (y_margin_neg + y_margin_pos)/2\n",
    "    x2per = (w[1]/w[0])*x1 - (w[1]/w[0])*x1c + x2c\n",
    "    #plt.axes()\n",
    "    display.clear_output(wait=True)\n",
    "    plt.figure(figsize=(5, 5), dpi=80)\n",
    "    plt.plot(x_plus[:, 0], x_plus[:, 1], 'rx')\n",
    "    plt.plot(x_minus[:, 0], x_minus[:, 1], 'go')    \n",
    "    plt.xlabel(r'$x_1$', fontsize=14)\n",
    "    plt.ylabel(r'$x_2$', fontsize=14)\n",
    "    plt.plot(x1, x2, 'b')\n",
    "    #plt.plot(x1, x2per, '--k', color='whitesmoke')\n",
    "    plt.xlim(xlim[0], xlim[1])\n",
    "    plt.ylim(ylim[0], ylim[1])    \n",
    "    plt.arrow(x1c, x2c, w[0], w[1], width=0.03, head_width=0.3, head_length=0.3, fc='k', ec='k') \n",
    "    #display.display(plt.gcf())"
   ]
  },
  {
   "cell_type": "markdown",
   "metadata": {
    "slideshow": {
     "slide_type": "slide"
    }
   },
   "source": [
    "### Initialising the Decision Boundary"
   ]
  },
  {
   "cell_type": "code",
   "execution_count": null,
   "metadata": {
    "slideshow": {
     "slide_type": "slide"
    }
   },
<<<<<<< HEAD
   "outputs": [
    {
     "name": "stdout",
     "output_type": "stream",
     "text": [
      "The sign for the selected value is  1.0\n"
     ]
    },
    {
     "data": {
      "image/png": "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\n",
      "text/plain": [
       "<Figure size 400x400 with 1 Axes>"
      ]
     },
     "metadata": {
      "needs_background": "light"
     },
     "output_type": "display_data"
    }
   ],
=======
   "outputs": [],
>>>>>>> upstream/master
   "source": [
    "#np.random.seed(seed=1001)\n",
    "w = 0.5*np.random.randn(2)\n",
    "b = 0.5*np.random.randn()\n",
    "plot_perceptron(w, b)\n",
    "x_selected = x_plus[1]\n",
    "plt.plot(x_selected[0], x_selected[1], 'o', mfc='none', mec='k', ms=15, lw=5)\n",
    "print(\"The sign for the selected value is \", np.sign(np.dot(w, x_selected)+b))"
   ]
  },
  {
   "cell_type": "markdown",
   "metadata": {
    "slideshow": {
     "slide_type": "subslide"
    }
   },
   "source": [
    "   \n",
    "### Drawing Decision Boundary\n",
    "\n",
    "The decision boundary is where the output of the function changes from -1 to +1 (or vice versa) so it's the point at which the argument of the $\\text{sign}$ function is zero. So in other words, the decision boundary is given by the *line* defined by $x_1 w_1 + x_2 w_2 = -b$ (where we have dropped the index $i$ for convenience). In this two dimensional space the decision boundary is defined by a line. In a three dimensional space it would be defined by a *plane*  and in higher dimensional spaces it is defined by something called a *[hyperplane](http://en.wikipedia.org/wiki/Hyperplane)*. This equation is therefore often known as the *separating hyperplane* because it defines the hyperplane that separates the data. To draw it in 2-D we can choose some values to plot from $x_1$ and then find the corresponding values for $x_2$ to plot using the rearrangement of the hyperplane formula as follows\n",
    "\n",
    "$$x_2 = -\\frac{(b+x_1w_1)}{w_2}$$\n",
    "\n",
    "Of course, we can also choose to specify the values for $x_2$ and compute the values for $x_1$ given the values for $x_2$,\n",
    "\n",
    "$$x_1 = -\\frac{b + x_2w_2}{w_1}$$"
   ]
  },
  {
   "cell_type": "markdown",
   "metadata": {
    "slideshow": {
     "slide_type": "subslide"
    }
   },
   "source": [
    "### Switching Formulae\n",
    "\n",
    "It turns out that sometimes we need to use the first formula, and sometimes we need to use the second. Which formula we use depends on how the separating hyperplane leaves the plot. \n",
    "\n",
    "We want to draw the separating hyperplane in the bounds of the plot which is showing our data. To think about which equation to use, let's consider two separate situations (actually there are a few more). \n",
    "\n",
    "1. If the separating hyperplane leaves the top and bottom of the plot then we want to plot a line with values in the $y$ direction (given by $x_2$) given by the upper and lower limits of our plot. The values in the $x$ direction can then be computed from the formula for the plane. \n",
    "\n",
    "2. Conversely if the line leaves the sides of the plot then we want to plot a line with values in the $x$ direction given by the limits of the plot. Then the values in the $y$ direction can be computed from the formula. Whether the line leaves the top/bottom or the sides of the plot is dependent on the relative values of $w_1$ and $w_2$. \n",
    "\n",
    "This motivates a simple `if` statement to check which situation we're in."
   ]
  },
  {
   "cell_type": "markdown",
   "metadata": {
    "slideshow": {
     "slide_type": "slide"
    }
   },
   "source": [
    "### Perceptron algorithm"
   ]
  },
  {
   "cell_type": "code",
   "execution_count": null,
   "metadata": {
    "slideshow": {
     "slide_type": "subslide"
    }
   },
   "outputs": [],
   "source": [
    "# %load -s update_perceptron mlai.py\n",
    "def update_perceptron(w, b, x_plus, x_minus, learn_rate):\n",
    "    \"Update the perceptron.\"\n",
    "    # select a point at random from the data\n",
    "    choose_plus = np.random.uniform(size=1)>0.5\n",
    "    updated=False\n",
    "    if choose_plus:\n",
    "        # choose a point from the positive data\n",
    "        index = np.random.randint(x_plus.shape[0])\n",
    "        x_select = x_plus[index, :]\n",
    "        if np.dot(w, x_select)+b <= 0.:\n",
    "            # point is currently incorrectly classified\n",
    "            w += learn_rate*x_select\n",
    "            b += learn_rate\n",
    "            updated=True\n",
    "    else:\n",
    "        # choose a point from the negative data\n",
    "        index = np.random.randint(x_minus.shape[0])\n",
    "        x_select = x_minus[index, :]\n",
    "        if np.dot(w, x_select)+b > 0.:\n",
    "            # point is currently incorrectly classified\n",
    "            w -= learn_rate*x_select\n",
    "            b -= learn_rate\n",
    "            updated=True\n",
    "    return w, b, x_select, updated\n"
   ]
  },
  {
   "cell_type": "markdown",
   "metadata": {
    "slideshow": {
     "slide_type": "slide"
    }
   },
   "source": [
    "## How the algorithm works?\n",
    "\n",
    "- We want to find parameters $\\mathbf{w}$ and $b$ that allow a correct prediction for a datapoint $\\mathbf{x}_i$.\n",
    "\n",
    "\n",
    "- We can then run an algorithm with the following rules: \n",
    "\n",
    "    - If the vector $\\mathbf{x}_i$ is correctly classified using $\\mathbf{w}$ and $b$, we don't change those\n",
    "      parameters.\n",
    "        \n",
    "    - If the vector $\\mathbf{x}_i$ is incorrectly classified using $\\mathbf{w}$ and $b$, we change those\n",
    "      parameters by adding a correction term."
   ]
  },
  {
   "cell_type": "markdown",
   "metadata": {
    "slideshow": {
     "slide_type": "slide"
    }
   },
   "source": [
    "## What is the correction term  that we add?\n",
    "\n",
    "- If the vector $\\mathbf{x}_i$ is incorrectly classified as negative being positive, we add $\\eta\\mathbf{x}_i$ to $\\mathbf{w}$ and $\\eta $ to $b$.\n",
    "\n",
    "\n",
    "- If the vector $\\mathbf{x}_i$ is incorrectly classified as positive being negative, we substract $\\eta\\mathbf{x}_i$ \n",
    "to $\\mathbf{w}$ and $\\eta$ to $b$.\n",
    "\n",
    "\n",
    "- $\\eta$ is known as the learning rate."
   ]
  },
  {
   "cell_type": "markdown",
   "metadata": {
    "slideshow": {
     "slide_type": "slide"
    }
   },
   "source": [
    "## Why this works?\n",
    "\n",
    "- As an example, say $\\mathbf{x}_i$ has label $y_i=+1$, but $\\mathbf{w}$ and $b$ are such that the prediction is \n",
    "  $f(\\mathbf{x}_i) = -1$\n",
    "  \n",
    "  $$\n",
    "   f(\\mathbf{x}_i) = \\text{sign}(\\mathbf{w}^{\\top}\\mathbf{x}_i + b) = -1\n",
    "  $$ \n",
    "\n",
    "\n",
    "- The above implies that $\\mathbf{w}^{\\top}\\mathbf{x}_i + b < 0$\n",
    "\n",
    "\n",
    "- Now we apply the correction terms to $\\mathbf{w}$ and $b$. Let's call the new values for $\\mathbf{w}$ and $b$, $\\mathbf{w}_{\\text{new}}$ and $b_{\\text{new}}$,\n",
    "\n",
    "    \\begin{align*}\n",
    "      \\mathbf{w}_{\\text{new}} & = \\mathbf{w} + \\eta \\mathbf{x}_i\\\\\n",
    "                            b_{\\text{new}} & = b + \\eta\n",
    "    \\end{align*}\n",
    "    \n",
    "- The new predicted value will be    \n",
    "  \n",
    "  \\begin{align}\n",
    "   f(\\mathbf{x}_i) & = \\text{sign}(\\mathbf{w}_{\\text{new}}^{\\top}\\mathbf{x}_i + b_{\\text{new}}) \\\\\n",
    "                   &  = \\text{sign}((\\mathbf{w}+\\eta \\mathbf{x}_i)^{\\top}\\mathbf{x}_i +  b + \\eta)\\\\\n",
    "                   &  = \\text{sign}(\\mathbf{w}^{\\top}\\mathbf{x}_i + b +\\eta \\mathbf{x}_i^{\\top}\\mathbf{x}_i + \\eta)\n",
    "  \\end{align} \n",
    "  \n",
    "  \n",
    "- Notice how the term $\\eta \\mathbf{x}_i^{\\top}\\mathbf{x}_i + \\eta$ (strictly positive) pushes the argument of         $f(\\cdot)$ to become positive and making the right prediction.\n",
    " "
   ]
  },
  {
   "cell_type": "code",
   "execution_count": null,
   "metadata": {
    "slideshow": {
     "slide_type": "subslide"
    }
   },
   "outputs": [],
   "source": [
    "def run_perceptron(w, b, learn_rate, how_many):\n",
    "    for i in range(how_many):   \n",
    "        plot_perceptron(w, b) \n",
    "        w, b, x_selected, updated = update_perceptron(w, b, x_plus, x_minus, learn_rate)\n",
    "        plt.plot(x_selected[0], x_selected[1], 'o', \\\n",
    "             mfc='none', mec='k', ms=15, lw=5)\n",
    "        if updated:\n",
    "            plt.title('Incorrect classification: needs updating', {'fontsize': 15})\n",
    "            plt.pause(5)\n",
    "        else:\n",
    "            plt.title('Correct classification', {'fontsize': 15})\n",
    "            plt.pause(2)"
   ]
  },
  {
   "cell_type": "code",
<<<<<<< HEAD
   "execution_count": 26,
=======
   "execution_count": null,
>>>>>>> upstream/master
   "metadata": {
    "slideshow": {
     "slide_type": "subslide"
    }
   },
<<<<<<< HEAD
   "outputs": [
    {
     "data": {
      "image/png": "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\n",
      "text/plain": [
       "<Figure size 400x400 with 1 Axes>"
      ]
     },
     "metadata": {
      "needs_background": "light"
     },
     "output_type": "display_data"
    }
   ],
=======
   "outputs": [],
>>>>>>> upstream/master
   "source": [
    "niters = 20\n",
    "learn_rate = 0.5\n",
    "run_perceptron(w, b, learn_rate, niters)"
   ]
  },
  {
   "cell_type": "markdown",
   "metadata": {
    "slideshow": {
     "slide_type": "slide"
    }
   },
   "source": [
    "### Perceptron Reflection\n",
    "\n",
    " - The perceptron is an algorithm. \n",
    " - What is it doing? When will it fail?\n",
    " - We can explain the update equations and prove it converges (when it does!)\n",
    " - But, where did these update equations come from? \n",
    " - They come from first defining an *objective function*, *perceptron criterion*, and then optimising it.\n",
    " - An objective function is also known as loss function, error function, cost function"
   ]
  },
  {
   "cell_type": "markdown",
   "metadata": {
    "slideshow": {
     "slide_type": "slide"
    }
   },
   "source": [
    "### Objective Functions and Regression\n",
    "\n",
    "- Classification: map a feature vector to a class label.\n",
    "- Regression: map a feature vector to a real value. Our *prediction function* is\n",
    "\n",
    "    $$f(x_i) = mx_i + c$$\n",
    "\n",
    "- Need an *algorithm* to fit it. \n",
    "\n",
    "- Least squares: minimize an error.\n",
    "\n",
    "$$E(m, c) = \\sum_{i=1}^n (y_i - f(x_i))^2$$\n",
    "\n"
   ]
  },
  {
   "cell_type": "markdown",
   "metadata": {
    "slideshow": {
     "slide_type": "slide"
    }
   },
   "source": [
    "### Regression\n",
    "\n",
    "- Create an artifical data set.\n",
    "\n"
   ]
  },
  {
   "cell_type": "code",
   "execution_count": null,
   "metadata": {},
   "outputs": [],
   "source": [
    "np.random.seed(seed=1001)\n",
    "#x = np.random.normal(size=4)\n",
    "x = np.linspace(-2,2, 4)"
   ]
  },
  {
   "cell_type": "markdown",
   "metadata": {},
   "source": [
    "We now need to decide on a *true* value for $m$ and a *true* value for $c$ to use for generating the data. "
   ]
  },
  {
   "cell_type": "code",
   "execution_count": null,
   "metadata": {},
   "outputs": [],
   "source": [
    "m_true = 1.4\n",
    "c_true = -3.1"
   ]
  },
  {
   "cell_type": "markdown",
   "metadata": {},
   "source": [
    "We can use these values to create our artificial data. The formula \n",
    "$$y_i = mx_i + c$$ is translated to code as follows:"
   ]
  },
  {
   "cell_type": "code",
   "execution_count": null,
   "metadata": {},
   "outputs": [],
   "source": [
    "y = m_true*x+c_true"
   ]
  },
  {
   "cell_type": "markdown",
   "metadata": {
    "slideshow": {
     "slide_type": "slide"
    }
   },
   "source": [
    "### Plot of Data\n",
    "We can now plot the artifical data we've created."
   ]
  },
  {
   "cell_type": "code",
   "execution_count": null,
   "metadata": {},
<<<<<<< HEAD
   "outputs": [
    {
     "data": {
      "text/plain": [
       "(-3, 3)"
      ]
     },
     "execution_count": 11,
     "metadata": {},
     "output_type": "execute_result"
    },
    {
     "data": {
      "image/png": "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\n",
      "text/plain": [
       "<Figure size 432x288 with 1 Axes>"
      ]
     },
     "metadata": {
      "needs_background": "light"
     },
     "output_type": "display_data"
    }
   ],
=======
   "outputs": [],
>>>>>>> upstream/master
   "source": [
    "plt.plot(x, y, 'r.', markersize=10) # plot data as red dots\n",
    "plt.xlim([-3, 3])"
   ]
  },
  {
   "cell_type": "markdown",
   "metadata": {},
   "source": [
    "These points lie exactly on a straight line, that's not very realistic, let's corrupt them with a bit of Gaussian 'noise'."
   ]
  },
  {
   "cell_type": "markdown",
   "metadata": {
    "slideshow": {
     "slide_type": "slide"
    }
   },
   "source": [
    "### Noise Corrupted Plot"
   ]
  },
  {
   "cell_type": "code",
   "execution_count": null,
   "metadata": {},
<<<<<<< HEAD
   "outputs": [
    {
     "data": {
      "text/plain": [
       "(-3, 3)"
      ]
     },
     "execution_count": 12,
     "metadata": {},
     "output_type": "execute_result"
    },
    {
     "data": {
      "image/png": "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\n",
      "text/plain": [
       "<Figure size 432x288 with 1 Axes>"
      ]
     },
     "metadata": {
      "needs_background": "light"
     },
     "output_type": "display_data"
    }
   ],
=======
   "outputs": [],
>>>>>>> upstream/master
   "source": [
    "np.random.seed(seed=22050)\n",
    "noise = np.random.normal(scale=0.5, size=4) # standard deviation of the noise is 0.5\n",
    "y = m_true*x + c_true + noise\n",
    "plt.plot(x, y, 'r.', markersize=10)\n",
    "plt.xlim([-3, 3])"
   ]
  },
  {
   "cell_type": "markdown",
   "metadata": {
    "slideshow": {
     "slide_type": "slide"
    }
   },
   "source": [
    "### Contour Plot of Error Function\n",
    "\n",
    "- Visualise the error function surface, create vectors of values."
   ]
  },
  {
   "cell_type": "code",
   "execution_count": null,
   "metadata": {},
   "outputs": [],
   "source": [
    "# create an array of linearly separated values around m_true\n",
    "m_vals = np.linspace(m_true-3, m_true+3, 100) \n",
    "# create an array of linearly separated values ae\n",
    "c_vals = np.linspace(c_true-3, c_true+3, 100) "
   ]
  },
  {
   "cell_type": "markdown",
   "metadata": {},
   "source": [
    "- create a grid of values to evaluate the error function in 2D."
   ]
  },
  {
   "cell_type": "code",
   "execution_count": null,
   "metadata": {},
   "outputs": [],
   "source": [
    "m_grid, c_grid = np.meshgrid(m_vals, c_vals) "
   ]
  },
  {
   "cell_type": "markdown",
   "metadata": {},
   "source": [
    "- compute the error function at each  combination of $c$ and $m$.\n"
   ]
  },
  {
   "cell_type": "code",
   "execution_count": null,
   "metadata": {},
   "outputs": [],
   "source": [
    "E_grid = np.zeros((100, 100))\n",
    "for i in range(100):\n",
    "    for j in range(100):\n",
    "        E_grid[i, j] = ((y - m_grid[i, j]*x - c_grid[i, j])**2).sum()"
   ]
  },
  {
   "cell_type": "markdown",
   "metadata": {
    "slideshow": {
     "slide_type": "slide"
    }
   },
   "source": [
    "# Contour Plot of Error\n",
    "\n",
    " - We can now make a contour plot."
   ]
  },
  {
   "cell_type": "code",
   "execution_count": null,
   "metadata": {},
   "outputs": [],
   "source": [
    "# %load -s regression_contour teaching_plots.py\n",
    "def regression_contour(f, ax, m_vals, c_vals, E_grid):\n",
    "    \"Regression contour plot.\"\n",
    "    hcont = ax.contour(m_vals, c_vals, E_grid, levels=[0, 0.25, 0.5, 1, 2, 4, 8, 16, 32, 64]) # this makes the contour plot    \n",
    "    plt.clabel(hcont, inline=1, fontsize=10) # this labels the contours.\n",
    "\n",
    "    ax.set_xlabel('$m$', fontsize=20)\n",
    "    ax.set_ylabel('$c$', fontsize=20)\n"
   ]
  },
  {
   "cell_type": "code",
   "execution_count": null,
   "metadata": {
    "slideshow": {
     "slide_type": "subslide"
    }
   },
<<<<<<< HEAD
   "outputs": [
    {
     "data": {
      "image/png": "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\n",
      "text/plain": [
       "<Figure size 360x360 with 1 Axes>"
      ]
     },
     "metadata": {
      "needs_background": "light"
     },
     "output_type": "display_data"
    }
   ],
=======
   "outputs": [],
>>>>>>> upstream/master
   "source": [
    "f, ax = plt.subplots(figsize=(5,5))\n",
    "regression_contour(f, ax, m_vals, c_vals, E_grid)"
   ]
  },
  {
   "cell_type": "markdown",
   "metadata": {
    "slideshow": {
     "slide_type": "slide"
    }
   },
   "source": [
    "### Steepest Descent\n",
    "\n",
    "- Minimize the sum of squares error function. \n",
    "- One way of doing that is gradient descent. \n",
    "- Initialize with a guess for $m$ and $c$ \n",
    "- Update that guess by subtracting a portion of the gradient from the guess. \n",
    "- Like walking down a hill in the steepest direction of the hill to get to the bottom."
   ]
  },
  {
   "cell_type": "markdown",
   "metadata": {
    "slideshow": {
     "slide_type": "slide"
    }
   },
   "source": [
    "### Algorithm\n",
    "\n",
    "- We start with a guess for $m$ and $c$."
   ]
  },
  {
   "cell_type": "code",
<<<<<<< HEAD
   "execution_count": 18,
=======
   "execution_count": null,
>>>>>>> upstream/master
   "metadata": {},
   "outputs": [],
   "source": [
    "m_star = 0.0\n",
    "c_star = -5.0"
   ]
  },
  {
   "cell_type": "markdown",
   "metadata": {
    "slideshow": {
     "slide_type": "slide"
    }
   },
   "source": [
    "### Offset Gradient\n",
    "\n",
    "- Now we need to compute the gradient of the error function, firstly with respect to $c$,\n",
    "\n",
    "  $$\\frac{\\text{d}E(m, c)}{\\text{d} c} = -2\\sum_{i=1}^n (y_i - mx_i - c)$$\n",
    "\n",
    "- This is computed in python as follows"
   ]
  },
  {
   "cell_type": "code",
<<<<<<< HEAD
   "execution_count": 19,
=======
   "execution_count": null,
>>>>>>> upstream/master
   "metadata": {},
   "outputs": [],
   "source": [
    "c_grad = -2*(y-m_star*x - c_star).sum()\n",
    "print(\"Gradient with respect to c is \", c_grad)"
   ]
  },
  {
   "cell_type": "markdown",
   "metadata": {
    "slideshow": {
     "slide_type": "subslide"
    }
   },
   "source": [
    "### Deriving the Gradient\n",
    "\n",
    "To see how the gradient was derived, first note that the $c$ appears in every term in the sum. So we are just differentiating $(y_i - mx_i - c)^2$ for each term in the sum. The gradient of this term with respect to $c$ is simply the gradient of the outer quadratic, multiplied by the gradient with respect to $c$ of the part inside the quadratic. The gradient of a quadratic is two times the argument of the quadratic, and the gradient of the inside linear term is just minus one. This is true for all terms in the sum, so we are left with the sum in the gradient. "
   ]
  },
  {
   "cell_type": "markdown",
   "metadata": {
    "slideshow": {
     "slide_type": "slide"
    }
   },
   "source": [
    "### Slope Gradient\n",
    "\n",
    "The gradient with respect tom $m$ is similar, but now the gradient of the quadratic's argument is $-x_i$ so the gradient with respect to $m$ is\n",
    "\n",
    "$$\\frac{\\text{d}E(m, c)}{\\text{d} m} = -2\\sum_{i=1}^n x_i(y_i - mx_i - c)$$\n",
    "\n",
    "which can be implemented in python (numpy) as"
   ]
  },
  {
   "cell_type": "code",
<<<<<<< HEAD
   "execution_count": 20,
=======
   "execution_count": null,
>>>>>>> upstream/master
   "metadata": {},
   "outputs": [],
   "source": [
    "m_grad = -2*(x*(y-m_star*x - c_star)).sum()\n",
    "print(\"Gradient with respect to m is \", m_grad)"
   ]
  },
  {
   "cell_type": "markdown",
   "metadata": {
    "slideshow": {
     "slide_type": "slide"
    }
   },
   "source": [
    "### Update Equations\n",
    "\n",
    "\n",
    "- Now we have gradients with respect to $m$ and $c$.\n",
    "- We can update our inital guesses for $m$ and $c$ using the gradient. \n",
    "- We don't want to just subtract the gradient from $m$ and $c$, \n",
    "- We need to take a *small* step in the gradient direction. \n",
    "- Otherwise we might overshoot the minimum. \n",
    "- We want to follow the gradient to get to the minimum, the gradient changes all the time. \n"
   ]
  },
  {
   "cell_type": "markdown",
   "metadata": {
    "slideshow": {
     "slide_type": "slide"
    }
   },
   "source": [
    "### Move in Direction of Gradient"
   ]
  },
  {
   "cell_type": "code",
<<<<<<< HEAD
   "execution_count": 21,
=======
   "execution_count": null,
>>>>>>> upstream/master
   "metadata": {
    "slideshow": {
     "slide_type": "slide"
    }
   },
<<<<<<< HEAD
   "outputs": [
    {
     "data": {
      "text/plain": [
       "<matplotlib.patches.FancyArrow at 0x1171c1cc0>"
      ]
     },
     "execution_count": 21,
     "metadata": {},
     "output_type": "execute_result"
    },
    {
     "data": {
      "image/png": "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\n",
      "text/plain": [
       "<Figure size 504x504 with 1 Axes>"
      ]
     },
     "metadata": {
      "needs_background": "light"
     },
     "output_type": "display_data"
    }
   ],
=======
   "outputs": [],
>>>>>>> upstream/master
   "source": [
    "f, ax = plt.subplots(figsize=(7,7))\n",
    "regression_contour(f, ax, m_vals, c_vals, E_grid)\n",
    "ax.plot(m_star, c_star, 'g*', markersize=15)\n",
    "ax.arrow(m_star, c_star, -m_grad*0.05, -c_grad*0.05, head_width=0.15)"
   ]
  },
  {
   "cell_type": "markdown",
   "metadata": {
    "slideshow": {
     "slide_type": "slide"
    }
   },
   "source": [
    "## Update Equations \n",
    "\n",
    "- The step size has already been introduced, it's again known as the learning rate and is denoted by $\\eta$. \n",
    "\n",
    "  $$c_\\text{new} \\leftarrow c_{\\text{old}} - \\eta \\frac{\\text{d}E(m, c)}{\\text{d}c}$$ \n",
    "\n",
    "- gives us an update for our estimate of $c$ (which in the code we've been calling `c_star` to represent a common way of writing a parameter estimate, $c^*$) and \n",
    "\n",
    "  $$m_\\text{new} \\leftarrow m_{\\text{old}} - \\eta \\frac{\\text{d}E(m, c)}{\\text{d}m}$$\n",
    "  \n",
    "- Giving us an update for $m$."
   ]
  },
  {
   "cell_type": "markdown",
   "metadata": {
    "slideshow": {
     "slide_type": "slide"
    }
   },
   "source": [
    "## Update Code\n",
    "\n",
    "- These updates can be coded as"
   ]
  },
  {
   "cell_type": "code",
<<<<<<< HEAD
   "execution_count": 22,
=======
   "execution_count": null,
>>>>>>> upstream/master
   "metadata": {},
   "outputs": [],
   "source": [
    "print(\"Original m was\", m_star, \"and original c was\", c_star)\n",
    "learn_rate = 0.01\n",
    "c_star = c_star - learn_rate*c_grad\n",
    "m_star = m_star - learn_rate*m_grad\n",
    "print(\"New m is\", m_star, \"and new c is\", c_star)\n"
   ]
  },
  {
   "cell_type": "markdown",
   "metadata": {
    "slideshow": {
     "slide_type": "slide"
    }
   },
   "source": [
    "# Iterating Updates\n",
    "\n",
    "- Fit model by descending gradient. "
   ]
  },
  {
   "cell_type": "markdown",
   "metadata": {
    "slideshow": {
     "slide_type": "slide"
    }
   },
   "source": [
    "### Gradient Descent Algorithm"
   ]
  },
  {
   "cell_type": "code",
<<<<<<< HEAD
   "execution_count": 23,
=======
   "execution_count": null,
>>>>>>> upstream/master
   "metadata": {
    "slideshow": {
     "slide_type": "slide"
    }
   },
   "outputs": [],
   "source": [
    "def plot_regression_contour_fit(f, ax, x, y, learn_rate = 0.1, iters = 10):\n",
    "    m_star = 0.0\n",
    "    c_star = -5.0\n",
    "    E = np.empty(iters+1)\n",
    "    E[0] = ((y - m_star*x - c_star)**2).sum()\n",
    "    regression_contour(f, ax, m_vals, c_vals, E_grid)\n",
    "    ax.plot(m_star, c_star, 'g*', markersize=10)\n",
    "    plt.pause(1.5)\n",
    "    c_vec = c_star\n",
    "    m_vec = m_star\n",
    "    for i in range(iters):\n",
    "        c_grad = -2*(y-m_star*x - c_star).sum()\n",
    "        m_grad = -2*(x*(y-m_star*x - c_star)).sum()       \n",
    "        #c_ant = c_star\n",
    "        #m_ant = m_star                \n",
    "        c_star = c_star - learn_rate*c_grad\n",
    "        m_star = m_star - learn_rate*m_grad\n",
    "        c_vec = np.append(c_vec, c_star)\n",
    "        m_vec = np.append(m_vec, m_star)\n",
    "        display.clear_output(wait=True)\n",
    "        f, ax = plt.subplots(figsize=(7,7))\n",
    "        regression_contour(f, ax, m_vals, c_vals, E_grid)\n",
    "        ax.plot(m_vec[0:m_vec.shape[0]-1], c_vec[0:c_vec.shape[0]-1], 'r*', markersize=10)\n",
    "        ax.plot(m_star, c_star, 'g*', markersize=10)\n",
    "        ax.plot(m_vec, c_vec, 'k')              \n",
    "        E[i+1] = ((y - m_star*x - c_star)**2).sum()\n",
    "        print(\"Iteration {} Objective function: {:02.4f}.\".format(i+1, E[i+1]))\n",
    "        plt.pause(1.2)\n",
    "    return m_star, c_star"
   ]
  },
  {
   "cell_type": "code",
   "execution_count": null,
   "metadata": {
    "scrolled": false,
    "slideshow": {
     "slide_type": "slide"
    }
   },
<<<<<<< HEAD
   "outputs": [
    {
     "name": "stdout",
     "output_type": "stream",
     "text": [
      "Iteration 15 Objective function: 1.1095.\n"
     ]
    },
    {
     "data": {
      "image/png": "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\n",
      "text/plain": [
       "<Figure size 504x504 with 1 Axes>"
      ]
     },
     "metadata": {
      "needs_background": "light"
     },
     "output_type": "display_data"
    },
    {
     "ename": "KeyboardInterrupt",
     "evalue": "",
     "output_type": "error",
     "traceback": [
      "\u001b[0;31m---------------------------------------------------------------------------\u001b[0m",
      "\u001b[0;31mKeyboardInterrupt\u001b[0m                         Traceback (most recent call last)",
      "\u001b[0;32m<ipython-input-27-e22449be4b05>\u001b[0m in \u001b[0;36m<module>\u001b[0;34m\u001b[0m\n\u001b[1;32m      1\u001b[0m \u001b[0mf\u001b[0m\u001b[0;34m,\u001b[0m \u001b[0max\u001b[0m \u001b[0;34m=\u001b[0m \u001b[0mplt\u001b[0m\u001b[0;34m.\u001b[0m\u001b[0msubplots\u001b[0m\u001b[0;34m(\u001b[0m\u001b[0mfigsize\u001b[0m\u001b[0;34m=\u001b[0m\u001b[0;34m(\u001b[0m\u001b[0;36m5\u001b[0m\u001b[0;34m,\u001b[0m\u001b[0;36m5\u001b[0m\u001b[0;34m)\u001b[0m\u001b[0;34m,\u001b[0m \u001b[0mdpi\u001b[0m\u001b[0;34m=\u001b[0m\u001b[0;36m80\u001b[0m\u001b[0;34m)\u001b[0m\u001b[0;34m\u001b[0m\u001b[0m\n\u001b[0;32m----> 2\u001b[0;31m \u001b[0mm_star\u001b[0m\u001b[0;34m,\u001b[0m \u001b[0mc_star\u001b[0m \u001b[0;34m=\u001b[0m \u001b[0mplot_regression_contour_fit\u001b[0m\u001b[0;34m(\u001b[0m\u001b[0mf\u001b[0m\u001b[0;34m,\u001b[0m \u001b[0max\u001b[0m\u001b[0;34m,\u001b[0m \u001b[0mx\u001b[0m\u001b[0;34m,\u001b[0m \u001b[0my\u001b[0m\u001b[0;34m,\u001b[0m \u001b[0mlearn_rate\u001b[0m \u001b[0;34m=\u001b[0m \u001b[0;36m0.05\u001b[0m\u001b[0;34m,\u001b[0m \u001b[0miters\u001b[0m\u001b[0;34m=\u001b[0m\u001b[0;36m20\u001b[0m\u001b[0;34m)\u001b[0m\u001b[0;34m\u001b[0m\u001b[0m\n\u001b[0m",
      "\u001b[0;32m<ipython-input-23-8671d7a2ca2a>\u001b[0m in \u001b[0;36mplot_regression_contour_fit\u001b[0;34m(f, ax, x, y, learn_rate, iters)\u001b[0m\n\u001b[1;32m     26\u001b[0m         \u001b[0mE\u001b[0m\u001b[0;34m[\u001b[0m\u001b[0mi\u001b[0m\u001b[0;34m+\u001b[0m\u001b[0;36m1\u001b[0m\u001b[0;34m]\u001b[0m \u001b[0;34m=\u001b[0m \u001b[0;34m(\u001b[0m\u001b[0;34m(\u001b[0m\u001b[0my\u001b[0m \u001b[0;34m-\u001b[0m \u001b[0mm_star\u001b[0m\u001b[0;34m*\u001b[0m\u001b[0mx\u001b[0m \u001b[0;34m-\u001b[0m \u001b[0mc_star\u001b[0m\u001b[0;34m)\u001b[0m\u001b[0;34m**\u001b[0m\u001b[0;36m2\u001b[0m\u001b[0;34m)\u001b[0m\u001b[0;34m.\u001b[0m\u001b[0msum\u001b[0m\u001b[0;34m(\u001b[0m\u001b[0;34m)\u001b[0m\u001b[0;34m\u001b[0m\u001b[0m\n\u001b[1;32m     27\u001b[0m         \u001b[0mprint\u001b[0m\u001b[0;34m(\u001b[0m\u001b[0;34m\"Iteration {} Objective function: {:02.4f}.\"\u001b[0m\u001b[0;34m.\u001b[0m\u001b[0mformat\u001b[0m\u001b[0;34m(\u001b[0m\u001b[0mi\u001b[0m\u001b[0;34m+\u001b[0m\u001b[0;36m1\u001b[0m\u001b[0;34m,\u001b[0m \u001b[0mE\u001b[0m\u001b[0;34m[\u001b[0m\u001b[0mi\u001b[0m\u001b[0;34m+\u001b[0m\u001b[0;36m1\u001b[0m\u001b[0;34m]\u001b[0m\u001b[0;34m)\u001b[0m\u001b[0;34m)\u001b[0m\u001b[0;34m\u001b[0m\u001b[0m\n\u001b[0;32m---> 28\u001b[0;31m         \u001b[0mplt\u001b[0m\u001b[0;34m.\u001b[0m\u001b[0mpause\u001b[0m\u001b[0;34m(\u001b[0m\u001b[0;36m1.2\u001b[0m\u001b[0;34m)\u001b[0m\u001b[0;34m\u001b[0m\u001b[0m\n\u001b[0m\u001b[1;32m     29\u001b[0m     \u001b[0;32mreturn\u001b[0m \u001b[0mm_star\u001b[0m\u001b[0;34m,\u001b[0m \u001b[0mc_star\u001b[0m\u001b[0;34m\u001b[0m\u001b[0m\n",
      "\u001b[0;32m~/Documents/University/ComputerScience/YearFour/machine/mEnv/lib/python3.6/site-packages/matplotlib/pyplot.py\u001b[0m in \u001b[0;36mpause\u001b[0;34m(interval)\u001b[0m\n\u001b[1;32m    308\u001b[0m             \u001b[0mcanvas\u001b[0m\u001b[0;34m.\u001b[0m\u001b[0mdraw_idle\u001b[0m\u001b[0;34m(\u001b[0m\u001b[0;34m)\u001b[0m\u001b[0;34m\u001b[0m\u001b[0m\n\u001b[1;32m    309\u001b[0m         \u001b[0mshow\u001b[0m\u001b[0;34m(\u001b[0m\u001b[0mblock\u001b[0m\u001b[0;34m=\u001b[0m\u001b[0;32mFalse\u001b[0m\u001b[0;34m)\u001b[0m\u001b[0;34m\u001b[0m\u001b[0m\n\u001b[0;32m--> 310\u001b[0;31m         \u001b[0mcanvas\u001b[0m\u001b[0;34m.\u001b[0m\u001b[0mstart_event_loop\u001b[0m\u001b[0;34m(\u001b[0m\u001b[0minterval\u001b[0m\u001b[0;34m)\u001b[0m\u001b[0;34m\u001b[0m\u001b[0m\n\u001b[0m\u001b[1;32m    311\u001b[0m     \u001b[0;32melse\u001b[0m\u001b[0;34m:\u001b[0m\u001b[0;34m\u001b[0m\u001b[0m\n\u001b[1;32m    312\u001b[0m         \u001b[0mtime\u001b[0m\u001b[0;34m.\u001b[0m\u001b[0msleep\u001b[0m\u001b[0;34m(\u001b[0m\u001b[0minterval\u001b[0m\u001b[0;34m)\u001b[0m\u001b[0;34m\u001b[0m\u001b[0m\n",
      "\u001b[0;32m~/Documents/University/ComputerScience/YearFour/machine/mEnv/lib/python3.6/site-packages/matplotlib/backend_bases.py\u001b[0m in \u001b[0;36mstart_event_loop\u001b[0;34m(self, timeout)\u001b[0m\n\u001b[1;32m   2258\u001b[0m         \u001b[0;32mwhile\u001b[0m \u001b[0mself\u001b[0m\u001b[0;34m.\u001b[0m\u001b[0m_looping\u001b[0m \u001b[0;32mand\u001b[0m \u001b[0mcounter\u001b[0m \u001b[0;34m*\u001b[0m \u001b[0mtimestep\u001b[0m \u001b[0;34m<\u001b[0m \u001b[0mtimeout\u001b[0m\u001b[0;34m:\u001b[0m\u001b[0;34m\u001b[0m\u001b[0m\n\u001b[1;32m   2259\u001b[0m             \u001b[0mself\u001b[0m\u001b[0;34m.\u001b[0m\u001b[0mflush_events\u001b[0m\u001b[0;34m(\u001b[0m\u001b[0;34m)\u001b[0m\u001b[0;34m\u001b[0m\u001b[0m\n\u001b[0;32m-> 2260\u001b[0;31m             \u001b[0mtime\u001b[0m\u001b[0;34m.\u001b[0m\u001b[0msleep\u001b[0m\u001b[0;34m(\u001b[0m\u001b[0mtimestep\u001b[0m\u001b[0;34m)\u001b[0m\u001b[0;34m\u001b[0m\u001b[0m\n\u001b[0m\u001b[1;32m   2261\u001b[0m             \u001b[0mcounter\u001b[0m \u001b[0;34m+=\u001b[0m \u001b[0;36m1\u001b[0m\u001b[0;34m\u001b[0m\u001b[0m\n\u001b[1;32m   2262\u001b[0m \u001b[0;34m\u001b[0m\u001b[0m\n",
      "\u001b[0;31mKeyboardInterrupt\u001b[0m: "
     ]
    }
   ],
=======
   "outputs": [],
>>>>>>> upstream/master
   "source": [
    "f, ax = plt.subplots(figsize=(5,5), dpi=80)\n",
    "m_star, c_star = plot_regression_contour_fit(f, ax, x, y, learn_rate = 0.05, iters=20)"
   ]
  },
  {
   "cell_type": "code",
<<<<<<< HEAD
   "execution_count": 25,
=======
   "execution_count": null,
>>>>>>> upstream/master
   "metadata": {},
   "outputs": [],
   "source": [
    "print(\"The true value for the slope m is {:02.4f}. The estimated value is {:02.4f}.\\n\".format(m_true, m_star))\n",
    "print(\"The true value for the intersect c is {:02.4f}. The estimated value is {:02.4f}.\\n\".format(c_true, c_star))"
   ]
  },
  {
   "cell_type": "markdown",
   "metadata": {
    "slideshow": {
     "slide_type": "slide"
    }
   },
   "source": [
    "### Stochastic Gradient Descent\n",
    "\n",
    "- If $n$ is small, gradient descent is fine.\n",
    "- But sometimes, e.g. on the internet, $n$ could be a billion.\n",
    "- Stochastic gradient descent is more similar to perceptron.\n",
    "- Look at gradient of one data point at a time rather than summing across *all* data points. \n",
    "- This gives a stochastic estimate of gradient.\n",
    "\n",
    " "
   ]
  },
  {
   "cell_type": "markdown",
   "metadata": {
    "slideshow": {
     "slide_type": "slide"
    }
   },
   "source": [
    "### Stochastic Gradient Descent\n",
    "\n",
    "The real gradient with respect to $m$ is given by \n",
    "\n",
    "  $$\\frac{\\text{d}E(m, c)}{\\text{d} m} = -2\\sum_{i=1}^n x_i(y_i - mx_i - c).$$\n",
    "\n",
    "It has $n$ terms in the sum. \n",
    "\n",
    "Remember the update equation for $m_\\text{new}$:\n",
    "\n",
    "$$m_\\text{new} \\leftarrow m_{\\text{old}} - \\eta \\frac{\\text{d}E(m, c)}{\\text{d}m}$$\n",
    "  \n",
    "Substituting in the gradient we can see that the full update is of the form\n",
    "\n",
    " $$m_\\text{new} \\leftarrow m_\\text{old} + 2\\eta \\sum_{i=1}^n x_i(y_i - m_\\text{old}x_i - c_\\text{old})$$\n",
    "\n",
    "Or\n",
    "  \n",
    "  $$m_\\text{new} \\leftarrow m_\\text{old} + 2\\eta \\left[x_1 (y_1 - m_\\text{old}x_1 - c_\\text{old}) \n",
    "     + (x_2 (y_2 -   m_\\text{old}x_2 - c_\\text{old}) + \\dots + (x_n (y_n - m_\\text{old}x_n - c_\\text{old})\\right]$$"
   ]
  },
  {
   "cell_type": "markdown",
   "metadata": {
    "slideshow": {
     "slide_type": "slide"
    }
   },
   "source": [
    "### Stochastic Gradient Descent\n",
    "\n",
    "This could be split up into lots of individual updates\n",
    "\n",
    "$$m_1 \\leftarrow m_\\text{old} + 2\\eta \\left[x_1 (y_1 - m_\\text{old}x_1 - c_\\text{old})\\right]$$\n",
    "$$m_2 \\leftarrow m_1 + 2\\eta \\left[x_2 (y_2 - m_\\text{old}x_2 - c_\\text{old})\\right]$$\n",
    "$$m_3 \\leftarrow m_2 + 2\\eta \\left[x_3 (y_3 - m_\\text{old}x_3 - c_\\text{old})\\right]$$\n",
    "\n",
    "Up until\n",
    "\n",
    "$$m_n \\leftarrow m_{n-1} + 2\\eta \\left[x_n (y_n - m_\\text{old}x_n - c_\\text{old})\\right]$$\n",
    "\n",
    "which would lead to the same final update."
   ]
  },
  {
   "cell_type": "markdown",
   "metadata": {
    "slideshow": {
     "slide_type": "slide"
    }
   },
   "source": [
    "### Updating $c$ and $m$\n",
    "\n",
    "- We  can present each data point in a random order, like we did for the perceptron.\n",
    "\n",
    "\n",
    "- This makes the algorithm suitable for large scale web use (recently this domain is know as 'Big Data') and algorithms like this are widely used by Google, Microsoft, Amazon, Twitter and Facebook.\n"
   ]
  },
  {
   "cell_type": "markdown",
   "metadata": {
    "slideshow": {
     "slide_type": "slide"
    }
   },
   "source": [
    "### Stochastic Gradient Descent\n",
    "\n",
    "Since the data is normally presented in a random order we just can write\n",
    "\n",
    "  $$m_\\text{new} = m_\\text{old} + 2\\eta\\left[x_i (y_i - m_\\text{old}x_i - c_\\text{old})\\right]$$"
   ]
  },
  {
   "cell_type": "markdown",
   "metadata": {
    "slideshow": {
     "slide_type": "slide"
    }
   },
   "source": [
    "### Reflection on Linear Regression and Supervised Learning\n",
    "\n",
    "Think about:\n",
    "\n",
    "1. What effect does the learning rate have in the optimization? What's the effect of making it too small, what's the effect of making it too big? Do you get the same result for both stochastic and steepest gradient descent?\n",
    "\n",
    "\n",
    "2. The stochastic gradient descent doesn't help very much for such a small data set. "
   ]
  },
  {
   "cell_type": "markdown",
   "metadata": {
    "slideshow": {
     "slide_type": "slide"
    }
   },
   "source": [
    "### Lab Class\n",
    "\n",
    "- You will take the ideas you have learnt and apply them in the domain of *matrix factorisation*.\n",
    "\n",
    "\n",
    "- Matrix factorization presents a different error function."
   ]
  },
  {
   "cell_type": "markdown",
   "metadata": {
    "collapsed": true,
    "slideshow": {
     "slide_type": "slide"
    }
   },
   "source": [
    "### Reading\n",
    "- Section 1.1.3 of Rogers and Girolami (2016) for loss functions."
   ]
  }
 ],
 "metadata": {
  "celltoolbar": "Slideshow",
  "kernelspec": {
   "display_name": "machine_env",
   "language": "python",
   "name": "machine_env"
  },
  "language_info": {
   "codemirror_mode": {
    "name": "ipython",
    "version": 3
   },
   "file_extension": ".py",
   "mimetype": "text/x-python",
   "name": "python",
   "nbconvert_exporter": "python",
   "pygments_lexer": "ipython3",
   "version": "3.6.3"
  },
  "rise": {
   "height": "90%",
   "width": "90%"
  }
 },
 "nbformat": 4,
 "nbformat_minor": 1
}
