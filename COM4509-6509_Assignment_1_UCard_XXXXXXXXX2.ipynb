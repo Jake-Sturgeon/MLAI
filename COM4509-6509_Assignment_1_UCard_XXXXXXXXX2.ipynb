{
 "cells": [
  {
   "cell_type": "markdown",
   "metadata": {},
   "source": [
    "# Assignment 1 Brief \n",
    "\n",
    "## Deadline: Tuesday, October 29, 2019 at 14:00 hrs\n",
    "\n",
    "## Number of marks available: 20\n",
    "\n",
    "## Scope: Sessions 1 to 5\n",
    "\n",
    "### How and what to submit\n",
    "\n",
    "A. Submit a Jupyter Notebook named COM4509-6509_Assignment_1_UCard_XXXXXXXXX.ipynb where XXXXXXXXX refers to your UCard number.\n",
    "\n",
    "B. Upload the notebook file to MOLE before the deadline above.\n",
    "\n",
    "C. **NO DATA UPLOAD**: Please do not upload the data files used. We have a copy already. \n",
    "\n",
    "\n",
    "### Assessment Criteria \n",
    "\n",
    "* Being able to express an objective function and its gradients in matrix form.\n",
    "\n",
    "* Being able to use numpy and pandas to preprocess a dataset.\n",
    "\n",
    "* Being able to use numpy to build a machine learning pipeline for supervised learning. \n",
    "\n",
    "\n",
    "### Late submissions\n",
    "\n",
    "We follow Department's guidelines about late submissions, i.e., a deduction of 5% of the mark each working day the work is late after the deadline. NO late submission will be marked one week after the deadline because we will release a solution by then. Please read [this link](https://sites.google.com/sheffield.ac.uk/compgtstudenthandbook/menu/assessment/late-submission?pli=1&authuser=1). \n",
    "\n",
    "### Use of unfair means \n",
    "\n",
    "**\"Any form of unfair means is treated as a serious academic offence and action may be taken under the Discipline Regulations.\"** (from the MSc Handbook). Please carefully read [this link](https://sites.google.com/sheffield.ac.uk/compgtstudenthandbook/menu/referencing-unfair-means?pli=1&authuser=1) on what constitutes Unfair Means if not sure."
   ]
  },
  {
   "cell_type": "markdown",
   "metadata": {},
   "source": [
    "# Regularisation for Linear Regression\n",
    "\n",
    "Regularisation is a technique commonly used in Machine Learning to prevent overfitting. It consists on adding terms to the objective function such that the optimisation procedure avoids solutions that just learn the training data. Popular techniques for regularisation in Supervised Learning include Lasso Regression, Ridge Regression and the Elastic Net. \n",
    "\n",
    "In this Assignment, you will be looking at Ridge Regression and devising equations to optimise the objective function in Ridge Regression using two methods: a closed-form derivation and the update rules for stochastic gradient descent. You will then use those update rules for making predictions on a Air Quaility dataset.\n",
    "\n",
    "## Ridge Regression\n",
    "\n",
    "Let us start with a data set for training $\\mathcal{D} = \\{\\mathbf{y}, \\mathbf{X}\\}$, where the vector $\\mathbf{y}=[y_1, \\cdots, y_n]^{\\top}$ and $\\mathbf{X}$ is the design matrix from Lab 3, this is, \n",
    "\n",
    "\\begin{align*}\n",
    "    \\mathbf{X} = \n",
    "                \\begin{bmatrix}\n",
    "                        1 & x_{1,1} & \\cdots & x_{1, D}\\\\\n",
    "                        1 & x_{2,1} & \\cdots & x_{2, D}\\\\\n",
    "                   \\vdots &  \\vdots\\\\\n",
    "                        1 & x_{n,1} & \\cdots & x_{n, D}\n",
    "                \\end{bmatrix}\n",
    "               = \n",
    "               \\begin{bmatrix}\n",
    "                      \\mathbf{x}_1^{\\top}\\\\\n",
    "                       \\mathbf{x}_2^{\\top}\\\\\n",
    "                          \\vdots\\\\\n",
    "                        \\mathbf{x}_n^{\\top}\n",
    "                \\end{bmatrix}.\n",
    "\\end{align*}\n",
    "\n",
    "Our predictive model is going to be a linear model\n",
    "\n",
    "$$ f(\\mathbf{x}_i) = \\mathbf{w}^{\\top}\\mathbf{x}_i,$$\n",
    "\n",
    "where $\\mathbf{w} = [w_0\\; w_1\\; \\cdots \\; w_D]^{\\top}$.\n",
    "\n",
    "The **objetive function** we are going to use has the following form\n",
    "\n",
    "$$ J(\\mathbf{w}, \\alpha) = \\frac{1}{n}\\sum_{i=1}^n (y_i - f(\\mathbf{x}_i))^2 + \\frac{\\alpha}{2}\\sum_{j=0}^D w_j^2,$$\n",
    "\n",
    "where $\\alpha>0$ is known as the *regularisation* parameter.\n",
    "\n",
    "The first term on the right-hand side (rhs) of the expression for $J(\\mathbf{w}, \\alpha)$ is very similar to the least-squares objective function we have seen before, for example in Lab 3. The only difference is on the term $\\frac{1}{n}$ that we use to normalise the objective with respect to the number of observations in the dataset. \n",
    "\n",
    "The first term on the rhs is what we call the \"fitting\" term whereas the second term in the expression is the regularisation term. Given $\\alpha$, the two terms in the expression have different purposes. The first term is looking for a value of $\\mathbf{w}$ that leads the squared-errors to zero. While doing this, $\\mathbf{w}$ can take any value and lead to a solution that it is only good for the training data but perhaps not for the test data. The second term is regularising the behavior of the first term by driving the $\\mathbf{w}$ towards zero. By doing this, it restricts the possible set of values that $\\mathbf{w}$ might take according to the first term. The value that we use for $\\alpha$ will allow a compromise between a value of $\\mathbf{w}$ that exactly fits the data (first term) or a value of $\\mathbf{w}$ that does not grow too much (second term).\n",
    "\n",
    "This type of regularisation has different names: ridge regression, Tikhonov regularisation or $\\ell_2$ norm regularisation. \n",
    "\n",
    "### Question 1: $J(\\mathbf{w}, \\alpha)$ in matrix form (2 marks)\n",
    "\n",
    "Write the expression for $J(\\mathbf{w}, \\alpha)$ in matrix form. Include ALL the steps necessary to reach the expression."
   ]
  },
  {
   "cell_type": "markdown",
   "metadata": {},
   "source": [
    "#### Question 1 Answer\n",
    "\n",
    "$$ J(\\mathbf{w}, \\alpha) = \\frac{1}{n}\\sum_{i=1}^n (y_i - f(\\mathbf{x}_i))^2 + \\frac{\\alpha}{2}\\sum_{j=0}^D w_j^2,$$\n",
    "where $\\alpha>0$ is known as the *regularisation* parameter.\n",
    "\n",
    "$$ f(\\mathbf{x}_i) = \\mathbf{w}^{\\top}\\mathbf{x}_i,$$\n",
    "\n",
    "where $\\mathbf{w} = [w_0\\; w_1\\; \\cdots \\; w_D]^{\\top}$.\n",
    "\n",
    "Therefore:\n",
    "$$ J(\\mathbf{w}, \\alpha) = \\frac{1}{n}\\sum_{i=1}^n (y_i - \\mathbf{w}^{\\top}\\mathbf{x}_i)^2 + \\frac{\\alpha}{2}\\sum_{j=0}^D w_j^2,$$\n",
    "\n",
    "\n",
    "\n",
    "let:\n",
    "$$\\sum_{i=1}^n (y_i - \\mathbf{w}^{\\top}\\mathbf{x}_i)^2 = (\\mathbf{y} - \\mathbf{X}\\mathbf{w})^\\top (\\mathbf{y} - \\mathbf{X}\\mathbf{w}), $$\n",
    "$$\n",
    "(\\mathbf{a} - \\mathbf{b})^\\top (\\mathbf{c} - \\mathbf{d}) = \\mathbf{a}^\\top \\mathbf{c} - \\mathbf{a}^\\top \\mathbf{d} - \\mathbf{b}^\\top \\mathbf{c} + \\mathbf{b}^\\top \\mathbf{d}\n",
    "$$\n",
    "which substituting for $\\mathbf{a} = \\mathbf{c} = \\mathbf{y}$ and $\\mathbf{b}=\\mathbf{d} = \\mathbf{X}\\mathbf{w}$ gives\n",
    "$$\\sum_{i=1}^n (y_i - \\mathbf{w}^{\\top}\\mathbf{x}_i)^2 = \\mathbf{y}^\\top\\mathbf{y} - 2\\mathbf{y}^\\top\\mathbf{X}\\mathbf{w} + \\mathbf{w}^\\top\\mathbf{X}^\\top\\mathbf{X}\\mathbf{w} $$\n",
    "\n",
    "Therefore:\n",
    "$$ J(\\mathbf{w}, \\alpha) = \\frac{1}{n}(\\mathbf{y}^\\top\\mathbf{y} - 2\\mathbf{y}^\\top\\mathbf{X}\\mathbf{w} + \\mathbf{w}^\\top\\mathbf{X}^\\top\\mathbf{X}\\mathbf{w}) + \\frac{\\alpha}{2}\\sum_{j=0}^D w_j^2,$$\n",
    "\n",
    "Due to the fact that any sum of squares can be represented by an inner product,\n",
    "$$\n",
    "a = \\sum_{i=1}^{k} b^2_i = \\mathbf{b}^\\top\\mathbf{b},\n",
    "$$\n",
    "\n",
    "So:\n",
    "$$ J(\\mathbf{w}, \\alpha) = \\frac{1}{n}(\\mathbf{y}^\\top\\mathbf{y} - 2\\mathbf{y}^\\top\\mathbf{X}\\mathbf{w} + \\mathbf{w}^\\top\\mathbf{X}^\\top\\mathbf{X}\\mathbf{w}) + \\frac{\\alpha}{2}(\\mathbf{w}^\\top\\mathbf{w}).$$\n"
   ]
  },
  {
   "cell_type": "markdown",
   "metadata": {},
   "source": [
    "## Optimising the objective function with respect to $\\mathbf{w}$\n",
    "\n",
    "There are two ways we can optimise the objective function with respect to $\\mathbf{w}$. The first one leads to a closed form expression for $\\mathbf{w}$ and the second one using an iterative optimisation procedure that updates the value of $\\mathbf{w}$ at each iteration by using the gradient of the objective function with respect to $\\mathbf{w}$,\n",
    "$$\n",
    "\\mathbf{w}_{\\text{new}} = \\mathbf{w}_{\\text{old}} - \\eta \\frac{d J(\\mathbf{w}, \\alpha)}{d\\mathbf{w}},\n",
    "$$\n",
    "where $\\eta$ is the *learning rate* parameter and $\\frac{d J(\\mathbf{w}, \\alpha)}{d\\mathbf{w}}$ is the gradient of the objective function.\n",
    "\n",
    "### Question 2: Derivative of $J(\\mathbf{w}, \\alpha)$ wrt $\\mathbf{w}$ (2 marks)\n",
    "\n",
    "Find the closed-form expression for $\\mathbf{w}$ by taking the derivative of $J(\\mathbf{w}, \\alpha)$ with respect to \n",
    "$\\mathbf{w}$, equating to zero and solving for $\\mathbf{w}$. Write the expression in matrix form. \n",
    "\n",
    "Also, write down the specific update rule for $\\mathbf{w}_{\\text{new}}$ by using the equation above."
   ]
  },
  {
   "cell_type": "markdown",
   "metadata": {},
   "source": [
    "#### Question 2 Answer\n",
    "\n",
    "Write your answer to the question in this box.\n",
    "\n",
    "$$ J(\\mathbf{w}, \\alpha) = \\frac{1}{n}(\\mathbf{y}^\\top\\mathbf{y} - 2\\mathbf{y}^\\top\\mathbf{X}\\mathbf{w} + \\mathbf{w}^\\top\\mathbf{X}^\\top\\mathbf{X}\\mathbf{w}) + \\frac{\\alpha}{2}(\\mathbf{w}^\\top\\mathbf{w})$$\n",
    "\n",
    "Due to the fact that:\n",
    "$$\n",
    "\\frac{\\text{d}}{\\text{d}\\mathbf{z}} \\mathbf{z}^\\top\\mathbf{C}\\mathbf{z}= 2\\mathbf{C}\\mathbf{z},\n",
    "$$\n",
    "and $$\\mathbf{y}^\\top\\mathbf{X}\\mathbf{w}= \\mathbf{w}^\\top\\mathbf{X}^\\top\\mathbf{y},$$\n",
    "the fact that $\\mathbf{X}^\\top\\mathbf{X}$ is symmetric\n",
    "\n",
    "$$\n",
    "\\frac{\\text{d}}{\\text{d}\\mathbf{w}}J(\\mathbf{w}, \\alpha)=  \\frac{1}{n}(0 - 2\\mathbf{X}^\\top\\mathbf{y} + 2\\mathbf{X}^\\top\\mathbf{X}\\mathbf{w}) + \\alpha\\mathbf{w},\n",
    "$$\n",
    "\n",
    "$$\n",
    "\\frac{\\text{d}}{\\text{d}\\mathbf{w}}J(\\mathbf{w}, \\alpha)= \\frac{1}{n}(-2\\mathbf{X}^\\top \\mathbf{y} + 2\\mathbf{X}^\\top\\mathbf{X}\\mathbf{w}) + \\alpha\\mathbf{w},\n",
    "$$\n",
    "\n",
    "let: \n",
    "$$\\frac{\\text{d}}{\\text{d}\\mathbf{w}}J(\\mathbf{w}, \\alpha)=0$$\n",
    "So:\n",
    "$$\\mathbf{0} = \\frac{1}{n}(-2\\mathbf{X}^\\top \\mathbf{y} + 2\\mathbf{X}^\\top\\mathbf{X}\\mathbf{w}) + \\alpha\\mathbf{w}$$\n",
    "\n",
    "$$\\mathbf{0} = -2\\mathbf{X}^\\top \\mathbf{y} + 2\\mathbf{X}^\\top\\mathbf{X}\\mathbf{w} + n\\alpha\\mathbf{w}$$\n",
    "\n",
    "$$2\\mathbf{X}^\\top\\mathbf{X}\\mathbf{w} + n\\alpha\\mathbf{w} = 2\\mathbf{X}^\\top \\mathbf{y}$$\n",
    "\n",
    "$$\\mathbf{w}(2\\mathbf{X}^\\top\\mathbf{X} + n\\alpha\\mathbf{I}) = 2\\mathbf{X}^\\top \\mathbf{y}$$\n",
    "Therefore in matrix form:\n",
    "\n",
    "$$\n",
    "\\mathbf{w} = \\left[2\\mathbf{X}^\\top\\mathbf{X} + n\\alpha\\mathbf{I}\\right]^{-1} 2\\mathbf{X}^\\top \\mathbf{y}\n",
    "$$ "
   ]
  },
  {
   "cell_type": "markdown",
   "metadata": {},
   "source": [
    "# Using ridge regression to predict air quality\n",
    "\n",
    "Our dataset comes from a popular machine learning repository that hosts open source datasets for educational and research purposes, the [UCI Machine Learning Repository](https://archive.ics.uci.edu/ml/index.php). We are going to use ridge regression for predicting air quality. The description of the dataset can be found [here](https://archive.ics.uci.edu/ml/datasets/Air+Quality)."
   ]
  },
  {
   "cell_type": "code",
   "execution_count": 152,
   "metadata": {},
   "outputs": [
    {
     "name": "stdout",
     "output_type": "stream",
     "text": [
      "Downloading  https://archive.ics.uci.edu/ml/machine-learning-databases/00360/AirQualityUCI.zip -> ./AirQualityUCI.zip\n"
     ]
    },
    {
     "name": "stdout",
     "output_type": "stream",
     "text": [
      "[==========================    ]   1.320/1.472MB                                                                                                                                                                                                                                                                                                                                                                                                                                                                                                                                                                                                                                                                                                                                                                                                                                                                                                                                                                                                                                                                                                                                                                                                                                                                                                                                                                                                                                                                                                                                                                                                                                                                                                                                                                                                                                                                                                                                                                                                                                                                                                                                                                                                                                                                                                                                                                                                                                                                                                                                                                                                                                                                                                                                                                                                                                                                                                                                                                                                                                                                                                                                                                                                                                                                                                                                                                                                                                                                                                                                                                                                                                                                                                                                                                                                                                                                                                                                                                                                                                                                                                                                                                                                                                                                                                                                                                                                                                                                                                                                                                                                                                                                                                                                                                                                                                                                                                                                                                                                                                                                                                                                                                                                                                                                                                                                                                                                                                                                                                                                                                                                                                                                                                                                                                                                                                                                                                                                                                                                                                                                                                                                                                                                                                                                                                                                                                                                                                                                                                                                                                                                                                                                                                                                                                                                                                                                                                                                                                                                                                                                                                                                                                                                                                                                                                                                                                                                                                                                                                                                                                                                                                                                                                                                                                                                                                                                                                                                                                                                                                                                                                                                                                                                                                                                                                                                                                                                                                                \r",
      "[===========================   ]   1.328/1.472MB"
     ]
    },
    {
     "name": "stdout",
     "output_type": "stream",
     "text": [
      "[==============================]   1.472/1.472MB                                                                                                                                                                                                                                                                                                                                                                                                                                                                                                                                                                                                                                                                                                                                                                                                                                                                                                                                                \n"
     ]
    }
   ],
   "source": [
    "import pods\n",
    "pods.util.download_url('https://archive.ics.uci.edu/ml/machine-learning-databases/00360/AirQualityUCI.zip')\n",
    "import zipfile\n",
    "zip = zipfile.ZipFile('./AirQualityUCI.zip', 'r')\n",
    "for name in zip.namelist():\n",
    "    zip.extract(name, '.')"
   ]
  },
  {
   "cell_type": "code",
   "execution_count": 153,
   "metadata": {},
   "outputs": [],
   "source": [
    "# The .csv version of the file has some typing issues, so we use the excel version\n",
    "import pandas as pd \n",
    "air_quality = pd.read_excel('./AirQualityUCI.xlsx', usecols=range(2,15))"
   ]
  },
  {
   "cell_type": "markdown",
   "metadata": {},
   "source": [
    "We can see some of the rows in the dataset "
   ]
  },
  {
   "cell_type": "code",
   "execution_count": 154,
   "metadata": {},
   "outputs": [
    {
     "data": {
      "text/html": [
       "<div>\n",
       "<style scoped>\n",
       "    .dataframe tbody tr th:only-of-type {\n",
       "        vertical-align: middle;\n",
       "    }\n",
       "\n",
       "    .dataframe tbody tr th {\n",
       "        vertical-align: top;\n",
       "    }\n",
       "\n",
       "    .dataframe thead th {\n",
       "        text-align: right;\n",
       "    }\n",
       "</style>\n",
       "<table border=\"1\" class=\"dataframe\">\n",
       "  <thead>\n",
       "    <tr style=\"text-align: right;\">\n",
       "      <th></th>\n",
       "      <th>CO(GT)</th>\n",
       "      <th>PT08.S1(CO)</th>\n",
       "      <th>NMHC(GT)</th>\n",
       "      <th>C6H6(GT)</th>\n",
       "      <th>PT08.S2(NMHC)</th>\n",
       "      <th>NOx(GT)</th>\n",
       "      <th>PT08.S3(NOx)</th>\n",
       "      <th>NO2(GT)</th>\n",
       "      <th>PT08.S4(NO2)</th>\n",
       "      <th>PT08.S5(O3)</th>\n",
       "      <th>T</th>\n",
       "      <th>RH</th>\n",
       "      <th>AH</th>\n",
       "    </tr>\n",
       "  </thead>\n",
       "  <tbody>\n",
       "    <tr>\n",
       "      <td>1383</td>\n",
       "      <td>3.4</td>\n",
       "      <td>1164.00</td>\n",
       "      <td>-200</td>\n",
       "      <td>14.973260</td>\n",
       "      <td>1147.75</td>\n",
       "      <td>224.0</td>\n",
       "      <td>741.00</td>\n",
       "      <td>127.0</td>\n",
       "      <td>1824.25</td>\n",
       "      <td>1129.50</td>\n",
       "      <td>16.050000</td>\n",
       "      <td>50.875</td>\n",
       "      <td>0.921140</td>\n",
       "    </tr>\n",
       "    <tr>\n",
       "      <td>7840</td>\n",
       "      <td>3.5</td>\n",
       "      <td>1293.00</td>\n",
       "      <td>-200</td>\n",
       "      <td>15.140161</td>\n",
       "      <td>1153.00</td>\n",
       "      <td>584.4</td>\n",
       "      <td>601.75</td>\n",
       "      <td>283.2</td>\n",
       "      <td>1141.00</td>\n",
       "      <td>1667.25</td>\n",
       "      <td>6.550000</td>\n",
       "      <td>34.375</td>\n",
       "      <td>0.335897</td>\n",
       "    </tr>\n",
       "    <tr>\n",
       "      <td>7474</td>\n",
       "      <td>1.7</td>\n",
       "      <td>1002.75</td>\n",
       "      <td>-200</td>\n",
       "      <td>5.892044</td>\n",
       "      <td>806.75</td>\n",
       "      <td>218.8</td>\n",
       "      <td>818.50</td>\n",
       "      <td>115.0</td>\n",
       "      <td>1020.75</td>\n",
       "      <td>1005.25</td>\n",
       "      <td>3.700000</td>\n",
       "      <td>68.900</td>\n",
       "      <td>0.554931</td>\n",
       "    </tr>\n",
       "    <tr>\n",
       "      <td>4125</td>\n",
       "      <td>-200.0</td>\n",
       "      <td>880.75</td>\n",
       "      <td>-200</td>\n",
       "      <td>4.082095</td>\n",
       "      <td>715.25</td>\n",
       "      <td>-200.0</td>\n",
       "      <td>955.25</td>\n",
       "      <td>-200.0</td>\n",
       "      <td>1352.25</td>\n",
       "      <td>501.50</td>\n",
       "      <td>34.075001</td>\n",
       "      <td>23.425</td>\n",
       "      <td>1.230750</td>\n",
       "    </tr>\n",
       "    <tr>\n",
       "      <td>4354</td>\n",
       "      <td>-200.0</td>\n",
       "      <td>-200.00</td>\n",
       "      <td>-200</td>\n",
       "      <td>-200.000000</td>\n",
       "      <td>-200.00</td>\n",
       "      <td>-200.0</td>\n",
       "      <td>-200.00</td>\n",
       "      <td>-200.0</td>\n",
       "      <td>-200.00</td>\n",
       "      <td>-200.00</td>\n",
       "      <td>-200.000000</td>\n",
       "      <td>-200.000</td>\n",
       "      <td>-200.000000</td>\n",
       "    </tr>\n",
       "  </tbody>\n",
       "</table>\n",
       "</div>"
      ],
      "text/plain": [
       "      CO(GT)  PT08.S1(CO)  NMHC(GT)    C6H6(GT)  PT08.S2(NMHC)  NOx(GT)  \\\n",
       "1383     3.4      1164.00      -200   14.973260        1147.75    224.0   \n",
       "7840     3.5      1293.00      -200   15.140161        1153.00    584.4   \n",
       "7474     1.7      1002.75      -200    5.892044         806.75    218.8   \n",
       "4125  -200.0       880.75      -200    4.082095         715.25   -200.0   \n",
       "4354  -200.0      -200.00      -200 -200.000000        -200.00   -200.0   \n",
       "\n",
       "      PT08.S3(NOx)  NO2(GT)  PT08.S4(NO2)  PT08.S5(O3)           T       RH  \\\n",
       "1383        741.00    127.0       1824.25      1129.50   16.050000   50.875   \n",
       "7840        601.75    283.2       1141.00      1667.25    6.550000   34.375   \n",
       "7474        818.50    115.0       1020.75      1005.25    3.700000   68.900   \n",
       "4125        955.25   -200.0       1352.25       501.50   34.075001   23.425   \n",
       "4354       -200.00   -200.0       -200.00      -200.00 -200.000000 -200.000   \n",
       "\n",
       "              AH  \n",
       "1383    0.921140  \n",
       "7840    0.335897  \n",
       "7474    0.554931  \n",
       "4125    1.230750  \n",
       "4354 -200.000000  "
      ]
     },
     "execution_count": 154,
     "metadata": {},
     "output_type": "execute_result"
    }
   ],
   "source": [
    "air_quality.sample(5)"
   ]
  },
  {
   "cell_type": "markdown",
   "metadata": {},
   "source": [
    "The target variable corresponds to the CO(GT) variable of the first column. The following columns correspond to the variables in the feature vectors, *e.g.*, PT08.S1(CO) is $x_1$ up until AH which is $x_D$. The original dataset also has a date and a time columns that we are not going to use in this assignment.\n",
    "\n",
    "Before designing our predictive model, we need to think about three stages: the preprocessing stage, the training stage and the validation stage. The three stages are interconnected and *it is important to remember that the testing data that we use for validation has to be set aside before preprocessing*. Any preprocessing that you do has to be done only on the training data and several key statistics need to be saved for the test stage.\n",
    "\n",
    "Separating the dataset into training and test before any preprocessing has happened help us to recreate the real world scenario where we will deploy our system and for which the data will come without any preprocessing.\n",
    "\n",
    "We are going to use *hold-out validation* for testing our predictive model so we need to separate the dataset into a training set and a test set.\n",
    "\n",
    "### Question 3: Splitting the dataset (1 mark)\n",
    "\n",
    "Split the dataset into a training set and a test set. The training set should have 70% of the total observations and the test set, the 30%. For making the random selection make sure that you use a random seed that corresponds to the last five digits of your student UCard. Make sure that you comment your code.\n",
    "\n",
    "#### Question 3 Answer"
   ]
  },
  {
   "cell_type": "code",
   "execution_count": 155,
   "metadata": {},
   "outputs": [
    {
     "name": "stdout",
     "output_type": "stream",
     "text": [
      "(9357, 13) (6549, 13) (2808, 13)\n",
      "0.6999038153254248 0.30009618467457516\n"
     ]
    }
   ],
   "source": [
    "# Write your code here\n",
    "import numpy as np\n",
    "seed = 53352\n",
    "# seed = 1645822\n",
    "np.random.seed(seed)\n",
    "\n",
    "# # train_data = air_quality.sample(frac=0.7, random_state=seed)\n",
    "# # test_data = air_quality.loc[~air_quality.index.isin(train_data.index)]\n",
    "\n",
    "train_len = int(0.7 * air_quality.shape[0])\n",
    "index = np.random.permutation(air_quality.shape[0])\n",
    "\n",
    "train_data = air_quality.loc[index[:train_len],:]\n",
    "test_data = air_quality.loc[index[train_len:],:]\n",
    "\n",
    "\n",
    "\n",
    "print(air_quality.shape, train_data.shape, test_data.shape)\n",
    "print(train_data.shape[0]/air_quality.shape[0], test_data.shape[0]/air_quality.shape[0])"
   ]
  },
  {
   "cell_type": "markdown",
   "metadata": {},
   "source": [
    "## Preprocessing the data\n",
    "\n",
    "The dataset has missing values tagged with a -200 value. Before doing any work with the training data, we want to make sure that we deal properly with the missing values. \n",
    "\n",
    "### Question 4: Missing values (3 marks)\n",
    "\n",
    "Make some exploratory analysis on the number of missing values per column in the training data. \n",
    "\n",
    "* Remove the rows for which the target feature has missing values. We are doing supervised learning so we need all our data observations to have known target values.\n",
    "\n",
    "* Remove features with more than 20% of missing values. For all the other features with missing values, use the mean value of the non-missing values for imputation.\n",
    "\n",
    "#### Question 4 Answer"
   ]
  },
  {
   "cell_type": "code",
   "execution_count": 156,
   "metadata": {},
   "outputs": [
    {
     "name": "stdout",
     "output_type": "stream",
     "text": [
      "{'CO(GT)': 2.180707635009311, 'PT08.S1(CO)': 1112.6669577592343, 'C6H6(GT)': 10.40666507076653, 'PT08.S2(NMHC)': 951.4634355391682, 'NOx(GT)': 258.31185577111506, 'PT08.S3(NOx)': 825.236286305712, 'NO2(GT)': 115.36907843137256, 'PT08.S4(NO2)': 1447.3753962093278, 'PT08.S5(O3)': 1047.0468497315478, 'T': 17.746969401725536, 'RH': 49.00405427667593, 'AH': 0.9865514047216386}\n"
     ]
    }
   ],
   "source": [
    "# Write your code here\n",
    "t = train_data[~(train_data[\"CO(GT)\"] == -200)]\n",
    "\n",
    "remove_feature = []\n",
    "means = {}\n",
    "\n",
    "for i in t:\n",
    "    feature_vector = t.loc[:, i]\n",
    "    if ((feature_vector == -200).sum() / t.shape[0] > 0.2):\n",
    "        t = t.drop(i,1)\n",
    "        remove_feature.append(i)\n",
    "        continue\n",
    "        \n",
    "    x = (feature_vector == -200).sum()\n",
    "    m = (feature_vector.replace(-200, np.nan)).sum() / (len(feature_vector) - x)\n",
    "    feature_vector = feature_vector.replace(-200, m, inplace = True)\n",
    "    means[i] = m\n",
    "    \n",
    "train_data_imputation = t\n",
    "\n",
    "# train_data_imputation\n",
    "print(means)"
   ]
  },
  {
   "cell_type": "code",
   "execution_count": null,
   "metadata": {},
   "outputs": [],
   "source": []
  },
  {
   "cell_type": "markdown",
   "metadata": {},
   "source": [
    "### Question 5: Normalising the training data (2 marks)\n",
    "\n",
    "Now that you have removed the missing data, we need to normalise the input vectors. \n",
    "\n",
    "* Explain in a sentence why do you need to normalise the input features for this dataset.\n",
    "\n",
    "* Normalise the training data by substracting the mean value for each feature and dividing the result by the standard deviation of each feature. Keep the mean values and standard deviations, you will need them at test time.\n",
    "\n",
    "#### Question 5 Answer\n",
    "\n",
    "Write your explanation in this box\n"
   ]
  },
  {
   "cell_type": "code",
   "execution_count": 157,
   "metadata": {},
   "outputs": [],
   "source": [
    "# Write your code here\n",
    "train_data_mean = train_data_imputation - train_data_imputation.mean()\n",
    "train_data_std = train_data_imputation.std()\n",
    "# print(train_data_mean,train_data_std)\n",
    "\n",
    "train_data_normalised = train_data_mean / train_data_std"
   ]
  },
  {
   "cell_type": "markdown",
   "metadata": {},
   "source": [
    "## Training and validation stages\n",
    "\n",
    "We have now curated our training data by removing data observations and features with a large amount of missing values. We have also normalised the feature vectors. We are now in a good position to work on developing the prediction model and validating it. We will use both the closed form expression for $\\mathbf{w}$ and gradient descent for iterative optimisation. \n",
    "\n",
    "We first organise the dataframe into the vector of targets $\\mathbf{y}$ and the design matrix $\\mathbf{X}$."
   ]
  },
  {
   "cell_type": "code",
   "execution_count": 158,
   "metadata": {},
   "outputs": [
    {
     "name": "stdout",
     "output_type": "stream",
     "text": [
      "(5370, 1) (5370, 12)\n"
     ]
    }
   ],
   "source": [
    "# Write your code here to get y and X\n",
    "t = [x for x in train_data_normalised if not x == \"CO(GT)\"]\n",
    "X = train_data_normalised[t]\n",
    "\n",
    "X = np.hstack((np.ones((train_data_normalised.shape[0],1)), X))\n",
    "\n",
    "\n",
    "y = np.array(train_data_normalised[\"CO(GT)\"])\n",
    "\n",
    "X = pd.DataFrame(X)\n",
    "y = pd.DataFrame(y)\n",
    "\n",
    "print(y.shape, X.shape)"
   ]
  },
  {
   "cell_type": "markdown",
   "metadata": {},
   "source": [
    "### Question 6: training with closed form expression for $\\mathbf{w}$ (3 marks)\n",
    "\n",
    "To find the optimal value of $\\mathbf{w}$ using the closed form expression that you derived before, we need to know the value of the regularisation parameter $\\alpha$ in advance. We will determine the value by using part of the training data for finding the parameters $\\mathbf{w}$ and another part of the training data to choose the best $\\alpha$ from a set of predefined values.\n",
    "\n",
    "* Use `np.log(start, stop, num)` to create a set of values for $\\alpha$ in log scale. Use the following parameters `start=-3`, `stop=2` and `num=20`. \n",
    "\n",
    "* Randomly split the training data into what is properly called the training set and the validation set. As before, make sure that you use a random seed that corresponds to the last five digits of your student UCard. Use 70% of the data for the training set and 30% of the data for the validation set.\n",
    "\n",
    "* For each value that you have for $\\alpha$ from the previous step, use the training set to compute $\\mathbf{w}$ and then measure the mean-squared error (MSE) over the validation data. After this, you will have `num=20` MSE values. Choose the value of $\\alpha$ that leads to the lower MSE and save it. You will use it at the test stage.\n",
    "\n",
    "* What was the best value of $\\alpha$? Is there any explanation for that?\n",
    "\n",
    "#### Question 6 Answer"
   ]
  },
  {
   "cell_type": "code",
   "execution_count": 159,
   "metadata": {},
   "outputs": [
    {
     "name": "stdout",
     "output_type": "stream",
     "text": [
      "[[159.59075249]]\n",
      "[[159.63419546]]\n",
      "[[159.70922904]]\n",
      "[[159.83475211]]\n",
      "[[160.03926956]]\n",
      "[[160.37782024]]\n",
      "[[160.98849656]]\n",
      "[[162.20136082]]\n",
      "[[164.66172627]]\n",
      "[[169.41477124]]\n",
      "[[177.93380331]]\n",
      "[[192.22850205]]\n",
      "[[216.01697242]]\n",
      "[[258.76976173]]\n",
      "[[340.43109131]]\n",
      "[[485.58062767]]\n",
      "[[698.53546054]]\n",
      "[[943.66005733]]\n",
      "[[1167.2625838]]\n",
      "[[1336.56480325]]\n"
     ]
    },
    {
     "data": {
      "text/plain": [
       "0.001"
      ]
     },
     "execution_count": 159,
     "metadata": {},
     "output_type": "execute_result"
    }
   ],
   "source": [
    "# Write your code here\n",
    "\n",
    "train_set_len = int(0.7 * X.shape[0])\n",
    "index_val = np.random.permutation(X.shape[0])\n",
    "\n",
    "X_train_set = X.loc[index_val[:train_set_len],:]\n",
    "X_test_val = X.loc[index_val[train_set_len:],:]\n",
    "y_train_set = y.loc[index_val[:train_set_len]]\n",
    "y_test_val = y.loc[index_val[train_set_len:]]\n",
    "\n",
    "error = []\n",
    "\n",
    "for i in np.logspace(start=-3,stop=2,num=20):\n",
    "    \n",
    "    w = np.linalg.solve(2 * np.dot(X_train_set.T, X_train_set) + X_train_set.shape[0] * i * np.identity(X_train_set.shape[1]), 2 * np.dot(X_train_set.T, y_train_set))\n",
    "#     print(w.shape)\n",
    "#     f = (1 / X_test_val.shape[0]) * np.dot(X_test_val, w) + (i / 2) * np.dot(w.T,w)\n",
    "    f = np.dot(X_test_val, w)\n",
    "    resid = y_test_val - f\n",
    "#     E = (1 / X_test_val.shape[0]) * np.dot(resid.T, resid) + (i / 2) * np.dot(w.T,w)\n",
    "    E = np.dot(resid.T, resid)\n",
    "    error.append(E)\n",
    "    print(E)\n",
    "    \n",
    "alpha = np.logspace(start = -3, stop = 2,num = 20)[np.argmin(error)]\n",
    "alpha"
   ]
  },
  {
   "cell_type": "code",
   "execution_count": null,
   "metadata": {},
   "outputs": [],
   "source": []
  },
  {
   "cell_type": "markdown",
   "metadata": {},
   "source": [
    "Write your answer to the last question here."
   ]
  },
  {
   "cell_type": "markdown",
   "metadata": {},
   "source": [
    "### Question 7: validation with the closed form expression for $\\mathbf{w}$ (2 marks)\n",
    "\n",
    "We are going to deal now with the test data to perform the validation of the model. Remember that the test data might also contain missing values in the target variable and in the input features.\n",
    "\n",
    "* Remove the rows of the test data for which the labels have missing values. \n",
    "* If you remove any feature at the training stage, you also need to remove the same features from the test stage.\n",
    "* Replace the missing values on each feature variables with the mean value you computed in the training data.\n",
    "* Normalise the test data using the means and standard deviations computed from the training data\n",
    "* Compute again $\\mathbf{w}$ for the value of $\\alpha$ that best performed on the validation set using ALL the training data (not all the training set).\n",
    "* Report the MSE on the preprocessed test data and an histogram with the absolute error.\n",
    "* Does the regularisation have any effect on the model? Explain your answer.\n",
    "\n",
    "#### Question 7 Answer"
   ]
  },
  {
   "cell_type": "code",
   "execution_count": 160,
   "metadata": {},
   "outputs": [
    {
     "name": "stdout",
     "output_type": "stream",
     "text": [
      "[[273.21823564]]\n"
     ]
    }
   ],
   "source": [
    "# Write your code here\n",
    "temp_4 = test_data[~(test_data[\"CO(GT)\"] == -200)]\n",
    "temp_4 = temp_4.drop(remove_feature,1)\n",
    "\n",
    "for i in temp_4:\n",
    "    feature_vector = temp_4.loc[:, i].replace(-200, means[i], inplace = True)\n",
    "    \n",
    "test_data_imputation = temp_4\n",
    "test_data_normalised = (test_data_imputation - train_data_imputation.mean()) / train_data_std\n",
    "\n",
    "t4 = [x for x in test_data_normalised if not x == \"CO(GT)\"]\n",
    "X_test_data = test_data_normalised[t4]\n",
    "X_test_data = np.hstack((np.ones((test_data_normalised.shape[0], 1)), X_test_data))\n",
    "\n",
    "w = np.linalg.solve(2 * np.dot(X.T, X) + X.shape[0] * alpha * np.identity(X.shape[1]), 2 * np.dot(X.T, y))\n",
    "# f = (1 / X_test_data.shape[0]) * np.dot(X_test_data, w) + (alpha / 2) * np.dot(w.T,w)\n",
    "f = np.dot(X_test_data, w)\n",
    "resid = (np.array(test_data_normalised[\"CO(GT)\"]) - f.T).T\n",
    "E = np.dot(resid.T, resid)\n",
    "print(E)"
   ]
  },
  {
   "cell_type": "code",
   "execution_count": 161,
   "metadata": {},
   "outputs": [
    {
     "data": {
      "image/png": "[encoded data removed]",
      "text/plain": [
       "<Figure size 432x288 with 1 Axes>"
      ]
     },
     "metadata": {
      "needs_background": "light"
     },
     "output_type": "display_data"
    }
   ],
   "source": [
    "import matplotlib.pyplot as plt\n",
    "\n",
    "plt.hist(resid)\n",
    "# plt.yscale('log')\n",
    "plt.show()"
   ]
  },
  {
   "cell_type": "markdown",
   "metadata": {},
   "source": [
    "Write the explanation to your answer here."
   ]
  },
  {
   "cell_type": "markdown",
   "metadata": {},
   "source": [
    "## Question 8: training with gradient descent and validation (5 marks)\n",
    "\n",
    "\n",
    "Use gradient descent to iteratively compute the value of $\\mathbf{w}_{\\text{new}}$. Instead of using all the training set to compute the gradient, use a subset of $B$ datapoints in the training set. This is sometimes called minibatch gradient descent where $B$ is the size of the minibacth. When using gradient descent with minibatches, you need to find the best values for three parameters: $\\eta$, the learning rate, $B$, the number of datapoints in the minibatch and $\\alpha$, the regularisation parameter.\n",
    "\n",
    "* As you did on Question 6, create a grid of values for the parameters $\\alpha$ and $\\eta$ using `np.logspace` and a grid of values for $B$ using np.linspace. Because you need to find \n",
    " three parameters, start with `num=5` and see if you can increase it.\n",
    "\n",
    "* Use the same training set and validation set that you used in Question 6.\n",
    "\n",
    "* For each value that you have of $\\alpha$, $\\eta$ and $B$ from the previous step, use the training set to compute $\\mathbf{w}$ using minibatch gradient descent and then measure the MSE over the validation data. For the minibatch gradient descent choose to stop the iterative procedure after $500$ iterations.\n",
    "\n",
    "* Choose the values of $\\alpha$, $\\eta$ and $B$ that lead to the lower MSE and save them. You will use them at the test stage.\n",
    "\n",
    "*3 marks of out of the 5 marks*\n",
    "\n",
    "\n",
    "* Use the test set from Question 7 and provide the MSE obtained by having used minibatch training with the best values for $\\alpha$, $\\eta$ and $B$ over the WHOLE training data (not only the training set).\n",
    "\n",
    "* Compare the performance of the closed form solution and the minibatch solution. Are the performances similar? Are the parameters $\\mathbf{w}$ and $\\alpha$ similar in both approaches? Please comment on both questions.\n",
    "\n",
    "*2 marks of out of the 5 marks*\n",
    "\n",
    "$$\n",
    "\\frac{\\text{d}}{\\text{d}\\mathbf{w}}J(\\mathbf{w}, \\alpha)= \\frac{1}{n}(-2\\mathbf{X}^\\top \\mathbf{y} + 2\\mathbf{X}^\\top\\mathbf{X}\\mathbf{w}) + \\alpha\\mathbf{w},\n",
    "$$\n",
    "\n",
    "#### Question 8 Answer"
   ]
  },
  {
   "cell_type": "code",
   "execution_count": 162,
   "metadata": {},
   "outputs": [
    {
     "name": "stdout",
     "output_type": "stream",
     "text": [
      "as\n",
      "as\n",
      "as\n",
      "as\n",
      "as\n",
      "(0.001, 0.1, 3758.0)\n"
     ]
    },
    {
     "data": {
      "image/png": "[encoded data removed]",
      "text/plain": [
       "<Figure size 432x288 with 1 Axes>"
      ]
     },
     "metadata": {
      "needs_background": "light"
     },
     "output_type": "display_data"
    },
    {
     "name": "stdout",
     "output_type": "stream",
     "text": [
      "[[313.92664529]]\n"
     ]
    }
   ],
   "source": [
    "# Write the code for your answer here\n",
    "# seed = 53352\n",
    "# # seed = 1645822\n",
    "# np.random.seed(seed)\n",
    "\n",
    "def find_w(X, y, a, B , eta, iterations = 500,graph = None ):\n",
    "    N = np.random.normal(size = X.shape[1])\n",
    "    w = np.expand_dims(N, axis=0).T\n",
    "    \n",
    "    gradient = np.zeros(X.shape[1])\n",
    "    gradient = np.expand_dims(gradient,axis=0).T\n",
    "#     for _ in range(iterations):\n",
    "# #         print(_)\n",
    "#         index_b = np.random.permutation(X.shape[0])\n",
    "#         for i in range(0, X.shape[0], int(B)):\n",
    "#             temp_x = X.iloc[index_b[i:i + int(B)],:] if (X.shape[0] - i) > B else X.iloc[index_b[i:X.shape[0]],:]\n",
    "#             temp_y = y.iloc[index_b[i:i + int(B)],:] if (X.shape[0] - i) > B else y.iloc[index_b[i:X.shape[0]],:]\n",
    "#             gradient += (2/temp_x.shape[0]) * ((-1) * np.dot(temp_x.T,temp_y) + np.dot(np.dot(temp_x.T,temp_x), w)) + a * w\n",
    "#             w -= eta * gradient\n",
    "    e = []\n",
    "    for _ in range(iterations):\n",
    "        index_b = np.random.permutation(X.shape[0])\n",
    "        temp_x = X.iloc[index_b[:int(B)],:]\n",
    "        temp_y = y.iloc[index_b[:int(B)],:]\n",
    "        gradient = (1/temp_x.shape[0]) * ((-2) * np.dot(temp_x.T,temp_y) + 2 * np.dot(temp_x.T,temp_x).dot(w)) + a * w\n",
    "        w -= eta * gradient\n",
    "        if graph:\n",
    "            f = np.dot(X, w)\n",
    "            resid = (y - f)\n",
    "            E = np.dot(resid.T, resid)\n",
    "            e.append(E[0][0])\n",
    "    if graph:\n",
    "        plt.plot(e)\n",
    "        plt.yscale('log')\n",
    "        plt.show()\n",
    "    return w\n",
    "\n",
    "\n",
    "\n",
    "iterations = 500\n",
    "a_list = np.logspace(start=-3,stop=1,num=5)\n",
    "eta_list = np.logspace(start=-5,stop=-1,num=5)\n",
    "B_list = np.linspace(start=100,stop=X_train_set.shape[0],num=5)\n",
    "\n",
    "\n",
    "error = -1\n",
    "params = (0, 0, 0)\n",
    "for a in a_list:\n",
    "    for eta in eta_list:\n",
    "        for B in B_list:\n",
    "#             print(a,eta,B)\n",
    "            w = find_w(X_train_set, y_train_set, a, B, eta)\n",
    "    \n",
    "            f = np.dot(X_test_val, w)\n",
    "            resid = y_test_val - f\n",
    "            E = np.dot(resid.T, resid)\n",
    "            \n",
    "            if E < error or error == -1:\n",
    "                error = E\n",
    "                params = a, eta, B\n",
    "#         print(error, params)\n",
    "    print(\"as\")\n",
    "a, eta, B = params\n",
    "\n",
    "print(params)\n",
    "\n",
    "w = find_w(X, y, a, B, eta, graph = True)\n",
    "\n",
    "# f = (1 / X_test_data.shape[0]) * np.dot(X_test_data, w) + (a / 2) * np.dot(w.T,w)\n",
    "f = np.dot(X_test_data, w)\n",
    "resid = (np.array(test_data_normalised[\"CO(GT)\"]) - f.T).T\n",
    "# E = (1 / X_test_data.shape[0]) * np.dot(resid.T, resid) + (a / 2) * np.dot(w.T,w)\n",
    "E = np.dot(resid.T, resid)\n",
    "print(E)"
   ]
  },
  {
   "cell_type": "markdown",
   "metadata": {},
   "source": [
    "Write the answer to your last question here."
   ]
  },
  {
   "cell_type": "code",
   "execution_count": 163,
   "metadata": {},
   "outputs": [
    {
     "data": {
      "image/png": "[encoded data removed]",
      "text/plain": [
       "<Figure size 432x288 with 1 Axes>"
      ]
     },
     "metadata": {
      "needs_background": "light"
     },
     "output_type": "display_data"
    }
   ],
   "source": [
    "\n",
    "\n",
    "plt.hist(resid)\n",
    "plt.show()"
   ]
  },
  {
   "cell_type": "code",
   "execution_count": null,
   "metadata": {},
   "outputs": [],
   "source": []
  },
  {
   "cell_type": "code",
   "execution_count": null,
   "metadata": {},
   "outputs": [],
   "source": []
  }
 ],
 "metadata": {
  "kernelspec": {
   "display_name": "Machines",
   "language": "python",
   "name": "machines"
  },
  "language_info": {
   "codemirror_mode": {
    "name": "ipython",
    "version": 3
   },
   "file_extension": ".py",
   "mimetype": "text/x-python",
   "name": "python",
   "nbconvert_exporter": "python",
   "pygments_lexer": "ipython3",
   "version": "3.7.4"
  }
 },
 "nbformat": 4,
 "nbformat_minor": 2
}
