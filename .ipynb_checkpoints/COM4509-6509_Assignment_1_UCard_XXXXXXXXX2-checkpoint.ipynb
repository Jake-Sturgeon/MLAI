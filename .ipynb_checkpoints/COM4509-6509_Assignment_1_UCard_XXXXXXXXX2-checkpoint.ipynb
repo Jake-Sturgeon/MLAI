{
 "cells": [
  {
   "cell_type": "markdown",
   "metadata": {},
   "source": [
    "# Assignment 1 Brief \n",
    "\n",
    "## Deadline: Tuesday, October 29, 2019 at 14:00 hrs\n",
    "\n",
    "## Number of marks available: 20\n",
    "\n",
    "## Scope: Sessions 1 to 5\n",
    "\n",
    "### How and what to submit\n",
    "\n",
    "A. Submit a Jupyter Notebook named COM4509-6509_Assignment_1_UCard_XXXXXXXXX.ipynb where XXXXXXXXX refers to your UCard number.\n",
    "\n",
    "B. Upload the notebook file to MOLE before the deadline above.\n",
    "\n",
    "C. **NO DATA UPLOAD**: Please do not upload the data files used. We have a copy already. \n",
    "\n",
    "\n",
    "### Assessment Criteria \n",
    "\n",
    "* Being able to express an objective function and its gradients in matrix form.\n",
    "\n",
    "* Being able to use numpy and pandas to preprocess a dataset.\n",
    "\n",
    "* Being able to use numpy to build a machine learning pipeline for supervised learning. \n",
    "\n",
    "\n",
    "### Late submissions\n",
    "\n",
    "We follow Department's guidelines about late submissions, i.e., a deduction of 5% of the mark each working day the work is late after the deadline. NO late submission will be marked one week after the deadline because we will release a solution by then. Please read [this link](https://sites.google.com/sheffield.ac.uk/compgtstudenthandbook/menu/assessment/late-submission?pli=1&authuser=1). \n",
    "\n",
    "### Use of unfair means \n",
    "\n",
    "**\"Any form of unfair means is treated as a serious academic offence and action may be taken under the Discipline Regulations.\"** (from the MSc Handbook). Please carefully read [this link](https://sites.google.com/sheffield.ac.uk/compgtstudenthandbook/menu/referencing-unfair-means?pli=1&authuser=1) on what constitutes Unfair Means if not sure."
   ]
  },
  {
   "cell_type": "markdown",
   "metadata": {},
   "source": [
    "# Regularisation for Linear Regression\n",
    "\n",
    "Regularisation is a technique commonly used in Machine Learning to prevent overfitting. It consists on adding terms to the objective function such that the optimisation procedure avoids solutions that just learn the training data. Popular techniques for regularisation in Supervised Learning include Lasso Regression, Ridge Regression and the Elastic Net. \n",
    "\n",
    "In this Assignment, you will be looking at Ridge Regression and devising equations to optimise the objective function in Ridge Regression using two methods: a closed-form derivation and the update rules for stochastic gradient descent. You will then use those update rules for making predictions on a Air Quaility dataset.\n",
    "\n",
    "## Ridge Regression\n",
    "\n",
    "Let us start with a data set for training $\\mathcal{D} = \\{\\mathbf{y}, \\mathbf{X}\\}$, where the vector $\\mathbf{y}=[y_1, \\cdots, y_n]^{\\top}$ and $\\mathbf{X}$ is the design matrix from Lab 3, this is, \n",
    "\n",
    "\\begin{align*}\n",
    "    \\mathbf{X} = \n",
    "                \\begin{bmatrix}\n",
    "                        1 & x_{1,1} & \\cdots & x_{1, D}\\\\\n",
    "                        1 & x_{2,1} & \\cdots & x_{2, D}\\\\\n",
    "                   \\vdots &  \\vdots\\\\\n",
    "                        1 & x_{n,1} & \\cdots & x_{n, D}\n",
    "                \\end{bmatrix}\n",
    "               = \n",
    "               \\begin{bmatrix}\n",
    "                      \\mathbf{x}_1^{\\top}\\\\\n",
    "                       \\mathbf{x}_2^{\\top}\\\\\n",
    "                          \\vdots\\\\\n",
    "                        \\mathbf{x}_n^{\\top}\n",
    "                \\end{bmatrix}.\n",
    "\\end{align*}\n",
    "\n",
    "Our predictive model is going to be a linear model\n",
    "\n",
    "$$ f(\\mathbf{x}_i) = \\mathbf{w}^{\\top}\\mathbf{x}_i,$$\n",
    "\n",
    "where $\\mathbf{w} = [w_0\\; w_1\\; \\cdots \\; w_D]^{\\top}$.\n",
    "\n",
    "The **objetive function** we are going to use has the following form\n",
    "\n",
    "$$ J(\\mathbf{w}, \\alpha) = \\frac{1}{n}\\sum_{i=1}^n (y_i - f(\\mathbf{x}_i))^2 + \\frac{\\alpha}{2}\\sum_{j=0}^D w_j^2,$$\n",
    "\n",
    "where $\\alpha>0$ is known as the *regularisation* parameter.\n",
    "\n",
    "The first term on the right-hand side (rhs) of the expression for $J(\\mathbf{w}, \\alpha)$ is very similar to the least-squares objective function we have seen before, for example in Lab 3. The only difference is on the term $\\frac{1}{n}$ that we use to normalise the objective with respect to the number of observations in the dataset. \n",
    "\n",
    "The first term on the rhs is what we call the \"fitting\" term whereas the second term in the expression is the regularisation term. Given $\\alpha$, the two terms in the expression have different purposes. The first term is looking for a value of $\\mathbf{w}$ that leads the squared-errors to zero. While doing this, $\\mathbf{w}$ can take any value and lead to a solution that it is only good for the training data but perhaps not for the test data. The second term is regularising the behavior of the first term by driving the $\\mathbf{w}$ towards zero. By doing this, it restricts the possible set of values that $\\mathbf{w}$ might take according to the first term. The value that we use for $\\alpha$ will allow a compromise between a value of $\\mathbf{w}$ that exactly fits the data (first term) or a value of $\\mathbf{w}$ that does not grow too much (second term).\n",
    "\n",
    "This type of regularisation has different names: ridge regression, Tikhonov regularisation or $\\ell_2$ norm regularisation. \n",
    "\n",
    "### Question 1: $J(\\mathbf{w}, \\alpha)$ in matrix form (2 marks)\n",
    "\n",
    "Write the expression for $J(\\mathbf{w}, \\alpha)$ in matrix form. Include ALL the steps necessary to reach the expression."
   ]
  },
  {
   "cell_type": "markdown",
   "metadata": {},
   "source": [
    "#### Question 1 Answer\n",
    "\n",
    "$$ J(\\mathbf{w}, \\alpha) = \\frac{1}{n}\\sum_{i=1}^n (y_i - f(\\mathbf{x}_i))^2 + \\frac{\\alpha}{2}\\sum_{j=0}^D w_j^2,$$\n",
    "where $\\alpha>0$ is known as the *regularisation* parameter.\n",
    "\n",
    "$$ f(\\mathbf{x}_i) = \\mathbf{w}^{\\top}\\mathbf{x}_i,$$\n",
    "\n",
    "where $\\mathbf{w} = [w_0\\; w_1\\; \\cdots \\; w_D]^{\\top}$.\n",
    "\n",
    "Therefore:\n",
    "$$ J(\\mathbf{w}, \\alpha) = \\frac{1}{n}\\sum_{i=1}^n (y_i - \\mathbf{w}^{\\top}\\mathbf{x}_i)^2 + \\frac{\\alpha}{2}\\sum_{j=0}^D w_j^2,$$\n",
    "\n",
    "\n",
    "\n",
    "let:\n",
    "$$\\sum_{i=1}^n (y_i - \\mathbf{w}^{\\top}\\mathbf{x}_i)^2 = (\\mathbf{y} - \\mathbf{X}\\mathbf{w})^\\top (\\mathbf{y} - \\mathbf{X}\\mathbf{w}), $$\n",
    "$$\n",
    "(\\mathbf{a} - \\mathbf{b})^\\top (\\mathbf{c} - \\mathbf{d}) = \\mathbf{a}^\\top \\mathbf{c} - \\mathbf{a}^\\top \\mathbf{d} - \\mathbf{b}^\\top \\mathbf{c} + \\mathbf{b}^\\top \\mathbf{d}\n",
    "$$\n",
    "which substituting for $\\mathbf{a} = \\mathbf{c} = \\mathbf{y}$ and $\\mathbf{b}=\\mathbf{d} = \\mathbf{X}\\mathbf{w}$ gives\n",
    "$$\\sum_{i=1}^n (y_i - \\mathbf{w}^{\\top}\\mathbf{x}_i)^2 = \\mathbf{y}^\\top\\mathbf{y} - 2\\mathbf{y}^\\top\\mathbf{X}\\mathbf{w} + \\mathbf{w}^\\top\\mathbf{X}^\\top\\mathbf{X}\\mathbf{w} $$\n",
    "\n",
    "Therefore:\n",
    "$$ J(\\mathbf{w}, \\alpha) = \\frac{1}{n}(\\mathbf{y}^\\top\\mathbf{y} - 2\\mathbf{y}^\\top\\mathbf{X}\\mathbf{w} + \\mathbf{w}^\\top\\mathbf{X}^\\top\\mathbf{X}\\mathbf{w}) + \\frac{\\alpha}{2}\\sum_{j=0}^D w_j^2,$$\n",
    "\n",
    "Due to the fact that any sum of squares can be represented by an inner product,\n",
    "$$\n",
    "a = \\sum_{i=1}^{k} b^2_i = \\mathbf{b}^\\top\\mathbf{b},\n",
    "$$\n",
    "\n",
    "So:\n",
    "$$ J(\\mathbf{w}, \\alpha) = \\frac{1}{n}(\\mathbf{y}^\\top\\mathbf{y} - 2\\mathbf{y}^\\top\\mathbf{X}\\mathbf{w} + \\mathbf{w}^\\top\\mathbf{X}^\\top\\mathbf{X}\\mathbf{w}) + \\frac{\\alpha}{2}(\\mathbf{w}^\\top\\mathbf{w}).$$\n"
   ]
  },
  {
   "cell_type": "markdown",
   "metadata": {},
   "source": [
    "## Optimising the objective function with respect to $\\mathbf{w}$\n",
    "\n",
    "There are two ways we can optimise the objective function with respect to $\\mathbf{w}$. The first one leads to a closed form expression for $\\mathbf{w}$ and the second one using an iterative optimisation procedure that updates the value of $\\mathbf{w}$ at each iteration by using the gradient of the objective function with respect to $\\mathbf{w}$,\n",
    "$$\n",
    "\\mathbf{w}_{\\text{new}} = \\mathbf{w}_{\\text{old}} - \\eta \\frac{d J(\\mathbf{w}, \\alpha)}{d\\mathbf{w}},\n",
    "$$\n",
    "where $\\eta$ is the *learning rate* parameter and $\\frac{d J(\\mathbf{w}, \\alpha)}{d\\mathbf{w}}$ is the gradient of the objective function.\n",
    "\n",
    "### Question 2: Derivative of $J(\\mathbf{w}, \\alpha)$ wrt $\\mathbf{w}$ (2 marks)\n",
    "\n",
    "Find the closed-form expression for $\\mathbf{w}$ by taking the derivative of $J(\\mathbf{w}, \\alpha)$ with respect to \n",
    "$\\mathbf{w}$, equating to zero and solving for $\\mathbf{w}$. Write the expression in matrix form. \n",
    "\n",
    "Also, write down the specific update rule for $\\mathbf{w}_{\\text{new}}$ by using the equation above."
   ]
  },
  {
   "cell_type": "markdown",
   "metadata": {},
   "source": [
    "#### Question 2 Answer\n",
    "\n",
    "Write your answer to the question in this box.\n",
    "\n",
    "$$ J(\\mathbf{w}, \\alpha) = \\frac{1}{n}(\\mathbf{y}^\\top\\mathbf{y} - 2\\mathbf{y}^\\top\\mathbf{X}\\mathbf{w} + \\mathbf{w}^\\top\\mathbf{X}^\\top\\mathbf{X}\\mathbf{w}) + \\frac{\\alpha}{2}(\\mathbf{w}^\\top\\mathbf{w})$$\n",
    "\n",
    "Due to the fact that:\n",
    "$$\n",
    "\\frac{\\text{d}}{\\text{d}\\mathbf{z}} \\mathbf{z}^\\top\\mathbf{C}\\mathbf{z}= 2\\mathbf{C}\\mathbf{z},\n",
    "$$\n",
    "and $$\\mathbf{y}^\\top\\mathbf{X}\\mathbf{w}= \\mathbf{w}^\\top\\mathbf{X}^\\top\\mathbf{y},$$\n",
    "the fact that $\\mathbf{X}^\\top\\mathbf{X}$ is symmetric\n",
    "\n",
    "$$\n",
    "\\frac{\\text{d}}{\\text{d}\\mathbf{w}}J(\\mathbf{w}, \\alpha)=  \\frac{1}{n}(0 - 2\\mathbf{X}^\\top\\mathbf{y} + 2\\mathbf{X}^\\top\\mathbf{X}\\mathbf{w}) + \\alpha\\mathbf{w},\n",
    "$$\n",
    "\n",
    "$$\n",
    "\\frac{\\text{d}}{\\text{d}\\mathbf{w}}J(\\mathbf{w}, \\alpha)= \\frac{1}{n}(-2\\mathbf{X}^\\top \\mathbf{y} + 2\\mathbf{X}^\\top\\mathbf{X}\\mathbf{w}) + \\alpha\\mathbf{w},\n",
    "$$\n",
    "\n",
    "let: \n",
    "$$\\frac{\\text{d}}{\\text{d}\\mathbf{w}}J(\\mathbf{w}, \\alpha)=0$$\n",
    "So:\n",
    "$$\\mathbf{0} = \\frac{1}{n}(-2\\mathbf{X}^\\top \\mathbf{y} + 2\\mathbf{X}^\\top\\mathbf{X}\\mathbf{w}) + \\alpha\\mathbf{w}$$\n",
    "\n",
    "$$\\mathbf{0} = -2\\mathbf{X}^\\top \\mathbf{y} + 2\\mathbf{X}^\\top\\mathbf{X}\\mathbf{w} + n\\alpha\\mathbf{w}$$\n",
    "\n",
    "$$2\\mathbf{X}^\\top\\mathbf{X}\\mathbf{w} + n\\alpha\\mathbf{w} = 2\\mathbf{X}^\\top \\mathbf{y}$$\n",
    "\n",
    "$$\\mathbf{w}(2\\mathbf{X}^\\top\\mathbf{X} + n\\alpha\\mathbf{I}) = 2\\mathbf{X}^\\top \\mathbf{y}$$\n",
    "Therefore in matrix form:\n",
    "\n",
    "$$\n",
    "\\mathbf{w} = \\left[2\\mathbf{X}^\\top\\mathbf{X} + n\\alpha\\mathbf{I}\\right]^{-1} 2\\mathbf{X}^\\top \\mathbf{y}\n",
    "$$ "
   ]
  },
  {
   "cell_type": "markdown",
   "metadata": {},
   "source": [
    "# Using ridge regression to predict air quality\n",
    "\n",
    "Our dataset comes from a popular machine learning repository that hosts open source datasets for educational and research purposes, the [UCI Machine Learning Repository](https://archive.ics.uci.edu/ml/index.php). We are going to use ridge regression for predicting air quality. The description of the dataset can be found [here](https://archive.ics.uci.edu/ml/datasets/Air+Quality)."
   ]
  },
  {
   "cell_type": "code",
   "execution_count": 38,
   "metadata": {},
   "outputs": [
    {
     "name": "stdout",
     "output_type": "stream",
     "text": [
      "Downloading  https://archive.ics.uci.edu/ml/machine-learning-databases/00360/AirQualityUCI.zip -> ./AirQualityUCI.zip\n"
     ]
    },
    {
     "name": "stdout",
     "output_type": "stream",
     "text": [
      "[==========================    ]   1.320/1.472MB                                                                                                                                                                                                                                                                                                                                                                                                                                                                                                                                                                                                                                                                                                                                                                                                                                                                                                                                                                                                                                                                                                                                                                                                                                                                                                                                                                                                                                                                                                                                                                                                                                                                                                                                                                                                                                                                                                                                                                                                                                                                                                                                                                                                                                                                                                                                                                                                                                                                                                                                                                                                                                                                                                                                                                                                                                                                                                                                                                                                                                                                                                                                                                                                                                                                                                                                                                                                                                                                                                                                                                                                                                                                                                                                                                                                                                                                                                                                                                                                                                                                                                                                                                                                                                                                                                                                                                                                                                                                                                                                                                                                                                                                                                                                                                                                                                                                                                                                                                                                                                                                                                                                                                                                                                                                                                                                                                                                                                                                                                                                                                                                                                                                                                                                                                                                                                                                                                                                                                                                                                                                                                                                                                                                                                                                                                                                                                                                                                                                                                                                                                                                                                                                                                                                                                                                                                                                                                                                                                                                                                                                                                                                                                                                                                                                                                                                                                                                                                                                                                                                                                                                                                                                                                                                                                                                                                                                                                                                                                                                                                                                                                                                                                                                                                                                                                                                                                                                                                                \r",
      "[===========================   ]   1.328/1.472MB"
     ]
    },
    {
     "name": "stdout",
     "output_type": "stream",
     "text": [
      "[==============================]   1.472/1.472MB                                                                                                                                                                                                                                                                                                                                                                                                                                                                                                                                                                                                                                                                                                                                                                                                                                                                                                                                                \n"
     ]
    }
   ],
   "source": [
    "import pods\n",
    "pods.util.download_url('https://archive.ics.uci.edu/ml/machine-learning-databases/00360/AirQualityUCI.zip')\n",
    "import zipfile\n",
    "zip = zipfile.ZipFile('./AirQualityUCI.zip', 'r')\n",
    "for name in zip.namelist():\n",
    "    zip.extract(name, '.')"
   ]
  },
  {
   "cell_type": "code",
   "execution_count": 39,
   "metadata": {},
   "outputs": [],
   "source": [
    "# The .csv version of the file has some typing issues, so we use the excel version\n",
    "import pandas as pd \n",
    "air_quality = pd.read_excel('./AirQualityUCI.xlsx', usecols=range(2,15))"
   ]
  },
  {
   "cell_type": "markdown",
   "metadata": {},
   "source": [
    "We can see some of the rows in the dataset "
   ]
  },
  {
   "cell_type": "code",
   "execution_count": 40,
   "metadata": {},
   "outputs": [
    {
     "data": {
      "text/html": [
       "<div>\n",
       "<style scoped>\n",
       "    .dataframe tbody tr th:only-of-type {\n",
       "        vertical-align: middle;\n",
       "    }\n",
       "\n",
       "    .dataframe tbody tr th {\n",
       "        vertical-align: top;\n",
       "    }\n",
       "\n",
       "    .dataframe thead th {\n",
       "        text-align: right;\n",
       "    }\n",
       "</style>\n",
       "<table border=\"1\" class=\"dataframe\">\n",
       "  <thead>\n",
       "    <tr style=\"text-align: right;\">\n",
       "      <th></th>\n",
       "      <th>CO(GT)</th>\n",
       "      <th>PT08.S1(CO)</th>\n",
       "      <th>NMHC(GT)</th>\n",
       "      <th>C6H6(GT)</th>\n",
       "      <th>PT08.S2(NMHC)</th>\n",
       "      <th>NOx(GT)</th>\n",
       "      <th>PT08.S3(NOx)</th>\n",
       "      <th>NO2(GT)</th>\n",
       "      <th>PT08.S4(NO2)</th>\n",
       "      <th>PT08.S5(O3)</th>\n",
       "      <th>T</th>\n",
       "      <th>RH</th>\n",
       "      <th>AH</th>\n",
       "    </tr>\n",
       "  </thead>\n",
       "  <tbody>\n",
       "    <tr>\n",
       "      <td>4282</td>\n",
       "      <td>1.1</td>\n",
       "      <td>929.25</td>\n",
       "      <td>-200</td>\n",
       "      <td>5.101134</td>\n",
       "      <td>768.50</td>\n",
       "      <td>-200.0</td>\n",
       "      <td>878.50</td>\n",
       "      <td>-200.0</td>\n",
       "      <td>1335.25</td>\n",
       "      <td>607.00</td>\n",
       "      <td>26.400001</td>\n",
       "      <td>35.150000</td>\n",
       "      <td>1.191852</td>\n",
       "    </tr>\n",
       "    <tr>\n",
       "      <td>6441</td>\n",
       "      <td>2.1</td>\n",
       "      <td>1062.00</td>\n",
       "      <td>-200</td>\n",
       "      <td>8.153993</td>\n",
       "      <td>905.50</td>\n",
       "      <td>-200.0</td>\n",
       "      <td>723.75</td>\n",
       "      <td>-200.0</td>\n",
       "      <td>1304.50</td>\n",
       "      <td>1004.25</td>\n",
       "      <td>11.575000</td>\n",
       "      <td>80.075001</td>\n",
       "      <td>1.089861</td>\n",
       "    </tr>\n",
       "    <tr>\n",
       "      <td>4252</td>\n",
       "      <td>1.3</td>\n",
       "      <td>1029.00</td>\n",
       "      <td>-200</td>\n",
       "      <td>8.111208</td>\n",
       "      <td>903.75</td>\n",
       "      <td>-200.0</td>\n",
       "      <td>708.50</td>\n",
       "      <td>-200.0</td>\n",
       "      <td>1459.75</td>\n",
       "      <td>991.50</td>\n",
       "      <td>29.050000</td>\n",
       "      <td>36.674999</td>\n",
       "      <td>1.450204</td>\n",
       "    </tr>\n",
       "    <tr>\n",
       "      <td>6372</td>\n",
       "      <td>0.9</td>\n",
       "      <td>926.50</td>\n",
       "      <td>-200</td>\n",
       "      <td>3.314161</td>\n",
       "      <td>671.25</td>\n",
       "      <td>135.0</td>\n",
       "      <td>2009.25</td>\n",
       "      <td>74.0</td>\n",
       "      <td>1097.75</td>\n",
       "      <td>791.75</td>\n",
       "      <td>8.925000</td>\n",
       "      <td>79.225000</td>\n",
       "      <td>0.906740</td>\n",
       "    </tr>\n",
       "    <tr>\n",
       "      <td>6722</td>\n",
       "      <td>2.4</td>\n",
       "      <td>-200.00</td>\n",
       "      <td>-200</td>\n",
       "      <td>-200.000000</td>\n",
       "      <td>-200.00</td>\n",
       "      <td>325.0</td>\n",
       "      <td>-200.00</td>\n",
       "      <td>115.0</td>\n",
       "      <td>-200.00</td>\n",
       "      <td>-200.00</td>\n",
       "      <td>-200.000000</td>\n",
       "      <td>-200.000000</td>\n",
       "      <td>-200.000000</td>\n",
       "    </tr>\n",
       "  </tbody>\n",
       "</table>\n",
       "</div>"
      ],
      "text/plain": [
       "      CO(GT)  PT08.S1(CO)  NMHC(GT)    C6H6(GT)  PT08.S2(NMHC)  NOx(GT)  \\\n",
       "4282     1.1       929.25      -200    5.101134         768.50   -200.0   \n",
       "6441     2.1      1062.00      -200    8.153993         905.50   -200.0   \n",
       "4252     1.3      1029.00      -200    8.111208         903.75   -200.0   \n",
       "6372     0.9       926.50      -200    3.314161         671.25    135.0   \n",
       "6722     2.4      -200.00      -200 -200.000000        -200.00    325.0   \n",
       "\n",
       "      PT08.S3(NOx)  NO2(GT)  PT08.S4(NO2)  PT08.S5(O3)           T  \\\n",
       "4282        878.50   -200.0       1335.25       607.00   26.400001   \n",
       "6441        723.75   -200.0       1304.50      1004.25   11.575000   \n",
       "4252        708.50   -200.0       1459.75       991.50   29.050000   \n",
       "6372       2009.25     74.0       1097.75       791.75    8.925000   \n",
       "6722       -200.00    115.0       -200.00      -200.00 -200.000000   \n",
       "\n",
       "              RH          AH  \n",
       "4282   35.150000    1.191852  \n",
       "6441   80.075001    1.089861  \n",
       "4252   36.674999    1.450204  \n",
       "6372   79.225000    0.906740  \n",
       "6722 -200.000000 -200.000000  "
      ]
     },
     "execution_count": 40,
     "metadata": {},
     "output_type": "execute_result"
    }
   ],
   "source": [
    "air_quality.sample(5)"
   ]
  },
  {
   "cell_type": "markdown",
   "metadata": {},
   "source": [
    "The target variable corresponds to the CO(GT) variable of the first column. The following columns correspond to the variables in the feature vectors, *e.g.*, PT08.S1(CO) is $x_1$ up until AH which is $x_D$. The original dataset also has a date and a time columns that we are not going to use in this assignment.\n",
    "\n",
    "Before designing our predictive model, we need to think about three stages: the preprocessing stage, the training stage and the validation stage. The three stages are interconnected and *it is important to remember that the testing data that we use for validation has to be set aside before preprocessing*. Any preprocessing that you do has to be done only on the training data and several key statistics need to be saved for the test stage.\n",
    "\n",
    "Separating the dataset into training and test before any preprocessing has happened help us to recreate the real world scenario where we will deploy our system and for which the data will come without any preprocessing.\n",
    "\n",
    "We are going to use *hold-out validation* for testing our predictive model so we need to separate the dataset into a training set and a test set.\n",
    "\n",
    "### Question 3: Splitting the dataset (1 mark)\n",
    "\n",
    "Split the dataset into a training set and a test set. The training set should have 70% of the total observations and the test set, the 30%. For making the random selection make sure that you use a random seed that corresponds to the last five digits of your student UCard. Make sure that you comment your code.\n",
    "\n",
    "#### Question 3 Answer"
   ]
  },
  {
   "cell_type": "code",
   "execution_count": 41,
   "metadata": {},
   "outputs": [
    {
     "name": "stdout",
     "output_type": "stream",
     "text": [
      "(9357, 13) (6549, 13) (2808, 13)\n",
      "0.6999038153254248 0.30009618467457516\n"
     ]
    }
   ],
   "source": [
    "# Write your code here\n",
    "import numpy as np\n",
    "seed = 53352\n",
    "# seed = 1645822\n",
    "np.random.seed(seed)\n",
    "\n",
    "# # train_data = air_quality.sample(frac=0.7, random_state=seed)\n",
    "# # test_data = air_quality.loc[~air_quality.index.isin(train_data.index)]\n",
    "\n",
    "train_len = int(0.7 * air_quality.shape[0])\n",
    "index = np.random.permutation(air_quality.shape[0])\n",
    "\n",
    "train_data = air_quality.loc[index[:train_len],:]\n",
    "test_data = air_quality.loc[index[train_len:],:]\n",
    "\n",
    "\n",
    "\n",
    "print(air_quality.shape, train_data.shape, test_data.shape)\n",
    "print(train_data.shape[0]/air_quality.shape[0], test_data.shape[0]/air_quality.shape[0])"
   ]
  },
  {
   "cell_type": "markdown",
   "metadata": {},
   "source": [
    "## Preprocessing the data\n",
    "\n",
    "The dataset has missing values tagged with a -200 value. Before doing any work with the training data, we want to make sure that we deal properly with the missing values. \n",
    "\n",
    "### Question 4: Missing values (3 marks)\n",
    "\n",
    "Make some exploratory analysis on the number of missing values per column in the training data. \n",
    "\n",
    "* Remove the rows for which the target feature has missing values. We are doing supervised learning so we need all our data observations to have known target values.\n",
    "\n",
    "* Remove features with more than 20% of missing values. For all the other features with missing values, use the mean value of the non-missing values for imputation.\n",
    "\n",
    "#### Question 4 Answer"
   ]
  },
  {
   "cell_type": "code",
   "execution_count": 42,
   "metadata": {},
   "outputs": [
    {
     "name": "stdout",
     "output_type": "stream",
     "text": [
      "{'CO(GT)': 2.180707635009311, 'PT08.S1(CO)': 1112.6669577592343, 'C6H6(GT)': 10.40666507076653, 'PT08.S2(NMHC)': 951.4634355391682, 'NOx(GT)': 258.31185577111506, 'PT08.S3(NOx)': 825.236286305712, 'NO2(GT)': 115.36907843137256, 'PT08.S4(NO2)': 1447.3753962093278, 'PT08.S5(O3)': 1047.0468497315478, 'T': 17.746969401725536, 'RH': 49.00405427667593, 'AH': 0.9865514047216386}\n"
     ]
    }
   ],
   "source": [
    "# Write your code here\n",
    "t = train_data[~(train_data[\"CO(GT)\"] == -200)]\n",
    "\n",
    "remove_feature = []\n",
    "means = {}\n",
    "\n",
    "for i in t:\n",
    "    feature_vector = t.loc[:, i]\n",
    "    if ((feature_vector == -200).sum() / t.shape[0] > 0.2):\n",
    "        t = t.drop(i,1)\n",
    "        remove_feature.append(i)\n",
    "        continue\n",
    "        \n",
    "    x = (feature_vector == -200).sum()\n",
    "    m = (feature_vector.replace(-200, np.nan)).sum() / (len(feature_vector) - x)\n",
    "    feature_vector = feature_vector.replace(-200, m, inplace = True)\n",
    "    means[i] = m\n",
    "    \n",
    "train_data_imputation = t\n",
    "\n",
    "# train_data_imputation\n",
    "print(means)"
   ]
  },
  {
   "cell_type": "code",
   "execution_count": null,
   "metadata": {},
   "outputs": [],
   "source": []
  },
  {
   "cell_type": "markdown",
   "metadata": {},
   "source": [
    "### Question 5: Normalising the training data (2 marks)\n",
    "\n",
    "Now that you have removed the missing data, we need to normalise the input vectors. \n",
    "\n",
    "* Explain in a sentence why do you need to normalise the input features for this dataset.\n",
    "\n",
    "* Normalise the training data by substracting the mean value for each feature and dividing the result by the standard deviation of each feature. Keep the mean values and standard deviations, you will need them at test time.\n",
    "\n",
    "#### Question 5 Answer\n",
    "\n",
    "Write your explanation in this box\n"
   ]
  },
  {
   "cell_type": "code",
   "execution_count": 43,
   "metadata": {},
   "outputs": [],
   "source": [
    "# Write your code here\n",
    "train_data_mean = train_data_imputation - train_data_imputation.mean()\n",
    "train_data_std = train_data_imputation.std()\n",
    "# print(train_data_mean,train_data_std)\n",
    "\n",
    "train_data_normalised = train_data_mean / train_data_std"
   ]
  },
  {
   "cell_type": "markdown",
   "metadata": {},
   "source": [
    "## Training and validation stages\n",
    "\n",
    "We have now curated our training data by removing data observations and features with a large amount of missing values. We have also normalised the feature vectors. We are now in a good position to work on developing the prediction model and validating it. We will use both the closed form expression for $\\mathbf{w}$ and gradient descent for iterative optimisation. \n",
    "\n",
    "We first organise the dataframe into the vector of targets $\\mathbf{y}$ and the design matrix $\\mathbf{X}$."
   ]
  },
  {
   "cell_type": "code",
   "execution_count": 44,
   "metadata": {},
   "outputs": [
    {
     "name": "stdout",
     "output_type": "stream",
     "text": [
      "(5370, 1) (5370, 12)\n"
     ]
    }
   ],
   "source": [
    "# Write your code here to get y and X\n",
    "t = [x for x in train_data_normalised if not x == \"CO(GT)\"]\n",
    "X = train_data_normalised[t]\n",
    "\n",
    "X = np.hstack((np.ones((train_data_normalised.shape[0],1)), X))\n",
    "\n",
    "\n",
    "y = np.array(train_data_normalised[\"CO(GT)\"])\n",
    "\n",
    "X = pd.DataFrame(X)\n",
    "y = pd.DataFrame(y)\n",
    "\n",
    "print(y.shape, X.shape)"
   ]
  },
  {
   "cell_type": "markdown",
   "metadata": {},
   "source": [
    "### Question 6: training with closed form expression for $\\mathbf{w}$ (3 marks)\n",
    "\n",
    "To find the optimal value of $\\mathbf{w}$ using the closed form expression that you derived before, we need to know the value of the regularisation parameter $\\alpha$ in advance. We will determine the value by using part of the training data for finding the parameters $\\mathbf{w}$ and another part of the training data to choose the best $\\alpha$ from a set of predefined values.\n",
    "\n",
    "* Use `np.log(start, stop, num)` to create a set of values for $\\alpha$ in log scale. Use the following parameters `start=-3`, `stop=2` and `num=20`. \n",
    "\n",
    "* Randomly split the training data into what is properly called the training set and the validation set. As before, make sure that you use a random seed that corresponds to the last five digits of your student UCard. Use 70% of the data for the training set and 30% of the data for the validation set.\n",
    "\n",
    "* For each value that you have for $\\alpha$ from the previous step, use the training set to compute $\\mathbf{w}$ and then measure the mean-squared error (MSE) over the validation data. After this, you will have `num=20` MSE values. Choose the value of $\\alpha$ that leads to the lower MSE and save it. You will use it at the test stage.\n",
    "\n",
    "* What was the best value of $\\alpha$? Is there any explanation for that?\n",
    "\n",
    "#### Question 6 Answer"
   ]
  },
  {
   "cell_type": "code",
   "execution_count": 45,
   "metadata": {},
   "outputs": [
    {
     "name": "stdout",
     "output_type": "stream",
     "text": [
      "[[159.59075249]]\n",
      "[[159.63419546]]\n",
      "[[159.70922904]]\n",
      "[[159.83475211]]\n",
      "[[160.03926956]]\n",
      "[[160.37782024]]\n",
      "[[160.98849656]]\n",
      "[[162.20136082]]\n",
      "[[164.66172627]]\n",
      "[[169.41477124]]\n",
      "[[177.93380331]]\n",
      "[[192.22850205]]\n",
      "[[216.01697242]]\n",
      "[[258.76976173]]\n",
      "[[340.43109131]]\n",
      "[[485.58062767]]\n",
      "[[698.53546054]]\n",
      "[[943.66005733]]\n",
      "[[1167.2625838]]\n",
      "[[1336.56480325]]\n"
     ]
    },
    {
     "data": {
      "text/plain": [
       "0.001"
      ]
     },
     "execution_count": 45,
     "metadata": {},
     "output_type": "execute_result"
    }
   ],
   "source": [
    "# Write your code here\n",
    "\n",
    "train_set_len = int(0.7 * X.shape[0])\n",
    "index_val = np.random.permutation(X.shape[0])\n",
    "\n",
    "X_train_set = X.loc[index_val[:train_set_len],:]\n",
    "X_test_val = X.loc[index_val[train_set_len:],:]\n",
    "y_train_set = y.loc[index_val[:train_set_len]]\n",
    "y_test_val = y.loc[index_val[train_set_len:]]\n",
    "\n",
    "error = []\n",
    "\n",
    "for i in np.logspace(start=-3,stop=2,num=20):\n",
    "    \n",
    "    w = np.linalg.solve(2 * np.dot(X_train_set.T, X_train_set) + X_train_set.shape[0] * i * np.identity(X_train_set.shape[1]), 2 * np.dot(X_train_set.T, y_train_set))\n",
    "#     print(w.shape)\n",
    "#     f = (1 / X_test_val.shape[0]) * np.dot(X_test_val, w) + (i / 2) * np.dot(w.T,w)\n",
    "    f = np.dot(X_test_val, w)\n",
    "    resid = y_test_val - f\n",
    "#     E = (1 / X_test_val.shape[0]) * np.dot(resid.T, resid) + (i / 2) * np.dot(w.T,w)\n",
    "    E = np.dot(resid.T, resid)\n",
    "    error.append(E)\n",
    "    print(E)\n",
    "    \n",
    "alpha = np.logspace(start = -3, stop = 2,num = 20)[np.argmin(error)]\n",
    "alpha"
   ]
  },
  {
   "cell_type": "code",
   "execution_count": null,
   "metadata": {},
   "outputs": [],
   "source": []
  },
  {
   "cell_type": "markdown",
   "metadata": {},
   "source": [
    "Write your answer to the last question here."
   ]
  },
  {
   "cell_type": "markdown",
   "metadata": {},
   "source": [
    "### Question 7: validation with the closed form expression for $\\mathbf{w}$ (2 marks)\n",
    "\n",
    "We are going to deal now with the test data to perform the validation of the model. Remember that the test data might also contain missing values in the target variable and in the input features.\n",
    "\n",
    "* Remove the rows of the test data for which the labels have missing values. \n",
    "* If you remove any feature at the training stage, you also need to remove the same features from the test stage.\n",
    "* Replace the missing values on each feature variables with the mean value you computed in the training data.\n",
    "* Normalise the test data using the means and standard deviations computed from the training data\n",
    "* Compute again $\\mathbf{w}$ for the value of $\\alpha$ that best performed on the validation set using ALL the training data (not all the training set).\n",
    "* Report the MSE on the preprocessed test data and an histogram with the absolute error.\n",
    "* Does the regularisation have any effect on the model? Explain your answer.\n",
    "\n",
    "#### Question 7 Answer"
   ]
  },
  {
   "cell_type": "code",
   "execution_count": 46,
   "metadata": {},
   "outputs": [
    {
     "name": "stdout",
     "output_type": "stream",
     "text": [
      "[[273.21823564]]\n"
     ]
    }
   ],
   "source": [
    "# Write your code here\n",
    "temp_4 = test_data[~(test_data[\"CO(GT)\"] == -200)]\n",
    "temp_4 = temp_4.drop(remove_feature,1)\n",
    "\n",
    "for i in temp_4:\n",
    "    feature_vector = temp_4.loc[:, i].replace(-200, means[i], inplace = True)\n",
    "    \n",
    "test_data_imputation = temp_4\n",
    "test_data_normalised = (test_data_imputation - train_data_imputation.mean()) / train_data_std\n",
    "\n",
    "t4 = [x for x in test_data_normalised if not x == \"CO(GT)\"]\n",
    "X_test_data = test_data_normalised[t4]\n",
    "X_test_data = np.hstack((np.ones((test_data_normalised.shape[0], 1)), X_test_data))\n",
    "\n",
    "w = np.linalg.solve(2 * np.dot(X.T, X) + X.shape[0] * alpha * np.identity(X.shape[1]), 2 * np.dot(X.T, y))\n",
    "# f = (1 / X_test_data.shape[0]) * np.dot(X_test_data, w) + (alpha / 2) * np.dot(w.T,w)\n",
    "f = np.dot(X_test_data, w)\n",
    "resid = (np.array(test_data_normalised[\"CO(GT)\"]) - f.T).T\n",
    "E = np.dot(resid.T, resid)\n",
    "print(E)"
   ]
  },
  {
   "cell_type": "code",
   "execution_count": 47,
   "metadata": {},
   "outputs": [
    {
     "data": {
      "image/png": "[encoded data removed]",
      "text/plain": [
       "<Figure size 432x288 with 1 Axes>"
      ]
     },
     "metadata": {
      "needs_background": "light"
     },
     "output_type": "display_data"
    }
   ],
   "source": [
    "import matplotlib.pyplot as plt\n",
    "\n",
    "plt.hist(resid)\n",
    "# plt.yscale('log')\n",
    "plt.show()"
   ]
  },
  {
   "cell_type": "markdown",
   "metadata": {},
   "source": [
    "Write the explanation to your answer here."
   ]
  },
  {
   "cell_type": "markdown",
   "metadata": {},
   "source": [
    "## Question 8: training with gradient descent and validation (5 marks)\n",
    "\n",
    "\n",
    "Use gradient descent to iteratively compute the value of $\\mathbf{w}_{\\text{new}}$. Instead of using all the training set to compute the gradient, use a subset of $B$ datapoints in the training set. This is sometimes called minibatch gradient descent where $B$ is the size of the minibacth. When using gradient descent with minibatches, you need to find the best values for three parameters: $\\eta$, the learning rate, $B$, the number of datapoints in the minibatch and $\\alpha$, the regularisation parameter.\n",
    "\n",
    "* As you did on Question 6, create a grid of values for the parameters $\\alpha$ and $\\eta$ using `np.logspace` and a grid of values for $B$ using np.linspace. Because you need to find \n",
    " three parameters, start with `num=5` and see if you can increase it.\n",
    "\n",
    "* Use the same training set and validation set that you used in Question 6.\n",
    "\n",
    "* For each value that you have of $\\alpha$, $\\eta$ and $B$ from the previous step, use the training set to compute $\\mathbf{w}$ using minibatch gradient descent and then measure the MSE over the validation data. For the minibatch gradient descent choose to stop the iterative procedure after $500$ iterations.\n",
    "\n",
    "* Choose the values of $\\alpha$, $\\eta$ and $B$ that lead to the lower MSE and save them. You will use them at the test stage.\n",
    "\n",
    "*3 marks of out of the 5 marks*\n",
    "\n",
    "\n",
    "* Use the test set from Question 7 and provide the MSE obtained by having used minibatch training with the best values for $\\alpha$, $\\eta$ and $B$ over the WHOLE training data (not only the training set).\n",
    "\n",
    "* Compare the performance of the closed form solution and the minibatch solution. Are the performances similar? Are the parameters $\\mathbf{w}$ and $\\alpha$ similar in both approaches? Please comment on both questions.\n",
    "\n",
    "*2 marks of out of the 5 marks*\n",
    "\n",
    "$$\n",
    "\\frac{\\text{d}}{\\text{d}\\mathbf{w}}J(\\mathbf{w}, \\alpha)= \\frac{1}{n}(-2\\mathbf{X}^\\top \\mathbf{y} + 2\\mathbf{X}^\\top\\mathbf{X}\\mathbf{w}) + \\alpha\\mathbf{w},\n",
    "$$\n",
    "\n",
    "#### Question 8 Answer"
   ]
  },
  {
   "cell_type": "code",
   "execution_count": 63,
   "metadata": {},
   "outputs": [
    {
     "name": "stdout",
     "output_type": "stream",
     "text": [
      "as\n",
      "as\n",
      "as\n",
      "as\n",
      "as\n",
      "(0.001, 1e-05, 400.0)\n",
      "[18400.504989539793, 18398.349615489682, 18395.12239613405, 18390.654332605358, 18385.11272063705, 18378.295891654347, 18370.389663744507, 18361.543770486405, 18351.557001779107, 18340.438317672255, 18328.196679555444, 18314.748224223913, 18300.364045073915, 18284.93551782088, 18268.23806398274, 18250.4273896728, 18231.392612595526, 18211.13084264939, 18189.849030788824, 18167.511519737847, 18144.08237700316, 18119.570660928624, 18093.76818113645, 18066.97491764712, 18039.17028129246, 18010.27647389852, 17980.36793862806, 17949.481639511, 17917.54901731059, 17884.646883033023, 17850.679415782255, 17815.55684872874, 17779.03517302016, 17741.594866425792, 17703.042500354648, 17663.526473727532, 17623.125546703657, 17581.8256658717, 17539.594622942597, 17496.381448039592, 17452.16718749644, 17407.050065838695, 17360.97146375955, 17313.884191358255, 17265.90490558589, 17217.03102097249, 17167.439106729194, 17117.154077901094, 17066.077392108393, 17014.193016467227, 16961.499576659797, 16907.95824955436, 16853.75273092732, 16798.664138858243, 16742.673120365107, 16685.947416809682, 16628.525877272587, 16570.341561530167, 16511.323459976345, 16451.52090099482, 16390.709865111086, 16329.158274373198, 16266.901639649253, 16203.9134004156, 16140.29653183972, 16076.064160364978, 16011.144371316872, 15945.486943165324, 15878.987335149188, 15811.814084944112, 15743.865141391672, 15675.308744294933, 15606.12992326569, 15536.352737904917, 15465.969425839778, 15394.977122943623, 15323.459011231622, 15251.461936699177, 15178.76934352957, 15105.58562761546, 15031.951118002928, 14957.799221624786, 14883.111971682376, 14807.824338206521, 14732.017566960782, 14655.793437336808, 14579.269578940675, 14502.364952412527, 14425.096116596978, 14347.37697346432, 14269.298574722914, 14191.025985235736, 14112.532249011347, 14033.849241778373, 13954.93720049341, 13875.724295315978, 13796.308466489581, 13716.487628133338, 13636.417014535842, 13556.04500044069, 13475.361677120365, 13394.510553567654, 13313.54111229747, 13232.269387402866, 13150.82095061841, 13069.16873333269, 12987.453298375169, 12905.74304286084, 12823.92864497288, 12742.032573450166, 12660.10729016236, 12578.237280234784, 12496.36350709215, 12414.473195166629, 12332.437360601789, 12250.453786537631, 12168.477373375308, 12086.5552278795, 12004.634297692684, 11922.776624563507, 11841.002456711736, 11759.35865984274, 11677.800931323596, 11596.334368269736, 11515.010862998739, 11433.856023635468, 11352.875819351033, 11272.063945715128, 11191.457560048319, 11110.978558082637, 11030.649481390352, 10950.510967040518, 10870.581073013976, 10790.916273243678, 10711.56426931705, 10632.500616572468, 10553.68817761852, 10475.170819498078, 10396.956819682915, 10319.027537883094, 10241.421867697709, 10164.180275022336, 10087.309280263122, 10010.82782166528, 9934.734702306889, 9859.009917126163, 9783.665965010623, 9708.698055896102, 9634.132658407098, 9560.027851802746, 9486.400518607088, 9413.153269023636, 9340.362683552845, 9268.047243356397, 9196.231146919827, 9124.857460684698, 9053.941283341957, 8983.509051388837, 8913.591861920962, 8844.183685418591, 8775.32536607115, 8707.029551223484, 8639.300889426098, 8572.166046166034, 8505.5422187084, 8439.5005684634, 8374.049633714232, 8309.217532612367, 8244.944153053131, 8181.303610722191, 8118.236036378421, 8055.746990756648, 7993.889119057506, 7932.658644746887, 7872.050737437407, 7812.097705273875, 7752.768335519032, 7694.047359650637, 7635.98205900855, 7578.564980996651, 7521.802809262841, 7465.6914653168105, 7410.264352212068, 7355.51876532242, 7301.501287606417, 7248.185484584151, 7195.557761834464, 7143.600906729843, 7092.302651339602, 7041.730336238114, 6991.904587349174, 6942.7956987071175, 6894.427030689241, 6846.760205270637, 6799.843702084846, 6753.600185614796, 6708.1083867742, 6663.310001321382, 6619.204107778329, 6575.831390144142, 6533.203537305968, 6491.230293946887, 6449.9753073075835, 6409.42325633854, 6369.602038339839, 6330.519049991677, 6292.175088973385, 6254.61356398857, 6217.809262136617, 6181.758656656069, 6146.426376437838, 6111.800140604549, 6077.885092426414, 6044.676661460067, 6012.252869515489, 5980.630712514008, 5949.7805658496245, 5919.625267448756, 5890.211327548468, 5861.572484968586, 5833.678021994402, 5806.549878561006, 5780.072181890824, 5754.28431075053, 5729.208726144552, 5704.850180605332, 5681.206134932431, 5658.275141927972, 5636.037535830894, 5614.472212825248, 5593.627556114973, 5573.494171822285, 5554.128772037803, 5535.501491628645, 5517.601551920045, 5500.417428228863, 5483.933820149582, 5468.079863775021, 5452.930509306028, 5438.4954759776665, 5424.792189477748, 5411.770457982214, 5399.439604084167, 5387.754964449261, 5376.6704687053925, 5366.237977869302, 5356.490154849568, 5347.408875910928, 5338.949709448092, 5331.155374190421, 5323.9468378751735, 5317.388530703507, 5311.403609003295, 5306.031020548149, 5301.270444839218, 5297.125459107519, 5293.64288543338, 5290.7542014333585, 5288.4461227590255, 5286.741665005872, 5285.610092026732, 5285.042436046208, 5285.078245781492, 5285.7217099652535, 5286.9484476036005, 5288.759304833811, 5291.135386996125, 5294.095665459976, 5297.607756821484, 5301.609203856805, 5306.196091470573, 5311.2944494177855, 5316.895134798754, 5322.9521934429495, 5329.454231516022, 5336.467259355489, 5344.001445915013, 5352.007312566318, 5360.476037385662, 5369.412004177041, 5378.844426724293, 5388.757426453692, 5399.158011636727, 5409.953919588598, 5421.2145980618025, 5432.939052042884, 5445.0728880143115, 5457.64664458022, 5470.656073004305, 5484.093610976081, 5497.967704776455, 5512.225974539359, 5526.871925459235, 5541.955179819785, 5557.464368703116, 5573.356496554791, 5589.641304049964, 5606.350162962111, 5623.473743107846, 5640.983153742408, 5658.8797967888995, 5677.098273262575, 5695.692291566575, 5714.645942978969, 5733.891362671104, 5753.371883171912, 5773.189146602603, 5793.315197994129, 5813.74294208905, 5834.521002702399, 5855.567730737217, 5876.8737616766575, 5898.478456592681, 5920.407753900161, 5942.564239261311, 5965.027517128664, 5987.78557523058, 6010.8196281694, 6034.116454270147, 6057.697836270885, 6081.530961722852, 6105.640996395983, 6129.99107485251, 6154.613796644004, 6179.464855590563, 6204.567405949434, 6229.949468792769, 6255.492731702924, 6281.2713981166535, 6307.283368924405, 6333.479179231731, 6359.846229455286, 6386.394862036891, 6413.144287679037, 6440.062724372767, 6467.132863318995, 6494.444453717161, 6521.976140422567, 6549.684591559174, 6577.5939727530085, 6605.685594104755, 6633.896484247579, 6662.274928918817, 6690.751026789719, 6719.3687468481285, 6748.001736254053, 6776.740057838482, 6805.527557573106, 6834.410369593246, 6863.356190104541, 6892.460566809343, 6921.644012329902, 6950.958439128699, 6980.389829371488, 7009.907646979498, 7039.475086533635, 7069.0986779406285, 7098.7409445813355, 7128.429275686807, 7158.232752624886, 7188.113233906556, 7218.043222972059, 7248.070467246344, 7278.212179146666, 7308.430542756952, 7338.733352622805, 7369.074633487151, 7399.384321037412, 7429.764930288437, 7460.203238139541, 7490.638299420471, 7521.109526658455, 7551.525215284571, 7581.953423642244, 7612.380050714284, 7642.830002289249, 7673.309558305427, 7703.722632007402, 7734.109440312402, 7764.387724956605, 7794.617595121189, 7824.826017386538, 7855.009127494041, 7885.202353885055, 7915.305351121029, 7945.339895619717, 7975.340271768867, 8005.257655170536, 8035.168773842449, 8065.053368414451, 8094.9087669390165, 8124.710214027144, 8154.425828123294, 8184.012427437825, 8213.57703378236, 8243.054108729126, 8272.506587305585, 8301.868703331775, 8331.154038265364, 8360.320712219316, 8389.38497508913, 8418.302145606787, 8447.103884000142, 8475.784239511915, 8504.3592598781, 8532.813331991167, 8561.111064133469, 8589.211282604916, 8617.111304271759, 8644.89455684325, 8672.573924629096, 8700.148519373302, 8727.552676263995, 8754.76027942642, 8781.881962521418, 8808.814617390663, 8835.534937095208, 8862.08647904704, 8888.44923952393, 8914.608209032896, 8940.575050870064, 8966.382316722811, 8992.013757565712, 9017.399708676607, 9042.63402423356, 9067.639819689432, 9092.473357147072, 9117.123366190977, 9141.604441551004, 9165.926507163043, 9190.060929192108, 9214.008807385468, 9237.824494466742, 9261.401753534848, 9284.725252659719, 9307.825804522165, 9330.662139770224, 9353.30421641401, 9375.748335035167, 9397.945409427428, 9419.902123019541, 9441.532574009727, 9462.928012831178, 9484.078107292496, 9505.018465992978, 9525.648485260846, 9546.106669863404, 9566.29491672846, 9586.302057573525, 9606.094049046318, 9625.63524630036, 9644.875531391755, 9663.87932980329, 9682.591299987893, 9701.027712455816, 9719.200831562463, 9737.090075014103, 9754.640823892112, 9771.935441554242, 9788.878546664528, 9805.514112934681, 9821.900521089823, 9838.000934398573, 9853.811209330592, 9869.308471346176, 9884.505365183277, 9899.337935987547, 9913.837128909927, 9928.002977024065, 9941.871402657524, 9955.41102862001, 9968.679390875026, 9981.639684375534, 9994.306106180105, 10006.706602118224, 10018.79075768497, 10030.625566235154, 10042.07686461171, 10053.26828445573, 10064.094722635773, 10074.678219122998, 10084.899124730417, 10094.744803151887, 10104.210313597565, 10113.344573941295, 10122.203097167447, 10130.685176454255, 10138.859675741774, 10146.652620053324, 10154.052508581992, 10161.063133964088, 10167.676036239922, 10173.87440130504, 10179.726650948844, 10185.225801761382, 10190.32881987006, 10195.08176328959, 10199.51900216562, 10203.571096029222, 10207.26316224965]\n"
     ]
    },
    {
     "data": {
      "image/png": "[encoded data removed]",
      "text/plain": [
       "<Figure size 432x288 with 1 Axes>"
      ]
     },
     "metadata": {
      "needs_background": "light"
     },
     "output_type": "display_data"
    },
    {
     "name": "stdout",
     "output_type": "stream",
     "text": [
      "[[4229.75597749]]\n"
     ]
    }
   ],
   "source": [
    "# Write the code for your answer here\n",
    "seed = 53352\n",
    "# seed = 1645822\n",
    "np.random.seed(seed)\n",
    "\n",
    "def find_w(X, y, a, B , eta, iterations = 500,graph = None ):\n",
    "    N = np.random.normal(size = X.shape[1])\n",
    "    w = np.expand_dims(N,axis=0).T\n",
    "    \n",
    "    gradient = np.zeros(X.shape[1])\n",
    "    gradient = np.expand_dims(gradient,axis=0).T\n",
    "#     for _ in range(iterations):\n",
    "# #         print(_)\n",
    "#         index_b = np.random.permutation(X.shape[0])\n",
    "#         for i in range(0, X.shape[0], int(B)):\n",
    "#             temp_x = X.iloc[index_b[i:i + int(B)],:] if (X.shape[0] - i) > B else X.iloc[index_b[i:X.shape[0]],:]\n",
    "#             temp_y = y.iloc[index_b[i:i + int(B)],:] if (X.shape[0] - i) > B else y.iloc[index_b[i:X.shape[0]],:]\n",
    "#             gradient += (2/temp_x.shape[0]) * ((-1) * np.dot(temp_x.T,temp_y) + np.dot(np.dot(temp_x.T,temp_x), w)) + a * w\n",
    "#             w -= eta * gradient\n",
    "    e = []\n",
    "    for _ in range(iterations):\n",
    "        index_b = np.random.permutation(X.shape[0])\n",
    "        temp_x = X.iloc[index_b[:int(B)],:]\n",
    "        temp_y = y.iloc[index_b[:int(B)],:]\n",
    "        gradient += (1/temp_x.shape[0]) * ((-2) * np.dot(temp_x.T,temp_y) + 2 * np.dot(temp_x.T,temp_x).dot(w)) + a * w\n",
    "        w -= eta * gradient\n",
    "        if graph:\n",
    "            f = np.dot(X, w)\n",
    "            resid = (y - f)\n",
    "            # E = (1 / X_test_data.shape[0]) * np.dot(resid.T, resid) + (a / 2) * np.dot(w.T,w)\n",
    "            E = np.dot(resid.T, resid)\n",
    "            e.append(E[0][0])\n",
    "    if graph:\n",
    "        plt.plot(e)\n",
    "        plt.show()\n",
    "    return w\n",
    "\n",
    "\n",
    "\n",
    "iterations = 500\n",
    "a_list = np.logspace(start=-3,stop=2,num=5)\n",
    "eta_list = np.logspace(start=-10,stop=-5,num=5)\n",
    "B_list = np.linspace(start=100,stop=500,num=5)\n",
    "\n",
    "\n",
    "error = -1\n",
    "params = (0, 0, 0)\n",
    "for a in a_list:\n",
    "    for eta in eta_list:\n",
    "        for B in B_list:\n",
    "#             print(a,eta,B)\n",
    "            w = find_w(X_train_set, y_train_set, a, B, eta)\n",
    "\n",
    "        #     f = (1 / X_test_val.shape[0]) * np.dot(X_test_val, w) + (a / 2) * np.dot(w.T,w)\n",
    "            f = np.dot(X_test_val, w)\n",
    "            resid = y_test_val - f\n",
    "        #     E = (1 / X_test_val.shape[0]) * np.dot(resid.T, resid) + (a / 2) * np.dot(w.T,w)\n",
    "            E = np.dot(resid.T, resid)\n",
    "            \n",
    "            if E < error or error == -1:\n",
    "                error = E\n",
    "                params = a, eta, B\n",
    "#         print(error, params)\n",
    "    print(\"as\")\n",
    "a, eta, B = params\n",
    "\n",
    "print(params)\n",
    "\n",
    "w = find_w(X, y, a, B, eta,graph = True)\n",
    "\n",
    "# f = (1 / X_test_data.shape[0]) * np.dot(X_test_data, w) + (a / 2) * np.dot(w.T,w)\n",
    "f = np.dot(X_test_data, w)\n",
    "resid = (np.array(test_data_normalised[\"CO(GT)\"]) - f.T).T\n",
    "# E = (1 / X_test_data.shape[0]) * np.dot(resid.T, resid) + (a / 2) * np.dot(w.T,w)\n",
    "E = np.dot(resid.T, resid)\n",
    "print(E)"
   ]
  },
  {
   "cell_type": "markdown",
   "metadata": {},
   "source": [
    "Write the answer to your last question here."
   ]
  },
  {
   "cell_type": "code",
   "execution_count": 49,
   "metadata": {},
   "outputs": [
    {
     "data": {
      "image/png": "[encoded data removed]",
      "text/plain": [
       "<Figure size 432x288 with 1 Axes>"
      ]
     },
     "metadata": {
      "needs_background": "light"
     },
     "output_type": "display_data"
    }
   ],
   "source": [
    "\n",
    "\n",
    "plt.hist(resid)\n",
    "plt.show()"
   ]
  },
  {
   "cell_type": "code",
   "execution_count": null,
   "metadata": {},
   "outputs": [],
   "source": []
  },
  {
   "cell_type": "code",
   "execution_count": null,
   "metadata": {},
   "outputs": [],
   "source": []
  }
 ],
 "metadata": {
  "kernelspec": {
   "display_name": "Machines",
   "language": "python",
   "name": "machines"
  },
  "language_info": {
   "codemirror_mode": {
    "name": "ipython",
    "version": 3
   },
   "file_extension": ".py",
   "mimetype": "text/x-python",
   "name": "python",
   "nbconvert_exporter": "python",
   "pygments_lexer": "ipython3",
   "version": "3.7.4"
  }
 },
 "nbformat": 4,
 "nbformat_minor": 2
}
